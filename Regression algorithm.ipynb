{
 "cells": [
  {
   "cell_type": "markdown",
   "metadata": {},
   "source": [
    "<h1 align = 'center'>Regression Algorithms</h1>"
   ]
  },
  {
   "cell_type": "markdown",
   "metadata": {},
   "source": [
    "Note: This notebook is an excerpt from the Machine learning tutorial on <a href = https://pythonprogramming.net/machine-learning-tutorial-python-introduction/> programming.net</a> and the book titled: <b>Introduction to Machine learning</b> by Andreas C.Muller and Sarah Guido"
   ]
  },
  {
   "cell_type": "markdown",
   "metadata": {},
   "source": [
    "<div class=\"alert alert-info\">\n",
    "Regression is a machine learning algorithm  that allow us to predict a continuous outcome variable (y) based on the value of one or multiple predictor variables (x). Briefly, the goal of regression model is to build a mathematical equation that defines y as a function of the x variables.\n",
    "</div>"
   ]
  },
  {
   "cell_type": "markdown",
   "metadata": {},
   "source": [
    "<div class=\"alert alert-info\">\n",
    "The data that we're going to be working with is the Boston housing Dataset.\n",
    "It is one of the preloaded dataset in the Sklearn library which you can access using the import statement below:<br>\n",
    "    <b>from sklearn.datasets import load_boston</b>\n",
    " \n",
    "\n",
    "<p>We would explore different regression algorithms and compare their accuracy</p>\n",
    "</div>"
   ]
  },
  {
   "cell_type": "code",
   "execution_count": 3,
   "metadata": {},
   "outputs": [],
   "source": [
    "from sklearn.datasets import load_boston\n",
    "import numpy as np\n",
    "import mglearn\n",
    "from sklearn.model_selection import train_test_split\n",
    "from sklearn.linear_model import LinearRegression\n",
    "import matplotlib.pyplot as plt\n",
    "boston = load_boston()\n",
    "from sklearn.linear_model import Ridge\n",
    "from sklearn.linear_model import Lasso"
   ]
  },
  {
   "cell_type": "markdown",
   "metadata": {},
   "source": [
    "<div class=\"alert alert-info\">\n",
    "Before we build our model, let's take a look at what our dataset looks like.\n",
    "</div>"
   ]
  },
  {
   "cell_type": "code",
   "execution_count": 4,
   "metadata": {},
   "outputs": [
    {
     "name": "stdout",
     "output_type": "stream",
     "text": [
      "dict_keys(['data', 'target', 'feature_names', 'DESCR', 'filename'])\n"
     ]
    }
   ],
   "source": [
    "print(boston.keys())"
   ]
  },
  {
   "cell_type": "code",
   "execution_count": 5,
   "metadata": {},
   "outputs": [
    {
     "name": "stdout",
     "output_type": "stream",
     "text": [
      "(506, 13)\n"
     ]
    }
   ],
   "source": [
    "print(boston.data.shape)"
   ]
  },
  {
   "cell_type": "markdown",
   "metadata": {},
   "source": [
    "<div class=\"alert alert-info\">\n",
    "We will use the extended boston data set. It has additional features which are derived from the original 13 features</div>"
   ]
  },
  {
   "cell_type": "code",
   "execution_count": 9,
   "metadata": {},
   "outputs": [],
   "source": [
    "X,y = mglearn.datasets.load_extended_boston()"
   ]
  },
  {
   "cell_type": "code",
   "execution_count": 10,
   "metadata": {},
   "outputs": [
    {
     "name": "stdout",
     "output_type": "stream",
     "text": [
      "(506, 104)\n"
     ]
    }
   ],
   "source": [
    "print(X.shape)     #The resulting 104 features are derived from the original 13 faetures"
   ]
  },
  {
   "cell_type": "code",
   "execution_count": 11,
   "metadata": {},
   "outputs": [],
   "source": [
    "X_train, X_test, y_train, y_test = train_test_split(X,y, random_state = 0)"
   ]
  },
  {
   "cell_type": "markdown",
   "metadata": {},
   "source": [
    "<h3>Simple Linear regression</h3>"
   ]
  },
  {
   "cell_type": "code",
   "execution_count": 12,
   "metadata": {},
   "outputs": [
    {
     "data": {
      "text/plain": [
       "LinearRegression(copy_X=True, fit_intercept=True, n_jobs=None,\n",
       "         normalize=False)"
      ]
     },
     "execution_count": 12,
     "metadata": {},
     "output_type": "execute_result"
    }
   ],
   "source": [
    "clf = LinearRegression()\n",
    "clf.fit(X_train, y_train)"
   ]
  },
  {
   "cell_type": "code",
   "execution_count": 13,
   "metadata": {},
   "outputs": [],
   "source": [
    "training_set_score = clf.score(X_train, y_train)\n",
    "test_set_score = clf.score(X_test, y_test)"
   ]
  },
  {
   "cell_type": "code",
   "execution_count": 14,
   "metadata": {},
   "outputs": [
    {
     "name": "stdout",
     "output_type": "stream",
     "text": [
      "0.9520519609032733\n",
      "0.6074721959665925\n"
     ]
    }
   ],
   "source": [
    "print(training_set_score)\n",
    "print(test_set_score)"
   ]
  },
  {
   "cell_type": "markdown",
   "metadata": {},
   "source": [
    "<h3>Simple Linear regression from scratch</h3>"
   ]
  },
  {
   "cell_type": "code",
   "execution_count": 26,
   "metadata": {},
   "outputs": [],
   "source": [
    "from statistics import mean\n",
    "import numpy as np\n",
    "import matplotlib.pyplot as plt\n",
    "from matplotlib import style\n",
    "style.use(\"fivethirtyeight\")\n",
    "import random"
   ]
  },
  {
   "cell_type": "code",
   "execution_count": 27,
   "metadata": {},
   "outputs": [
    {
     "data": {
      "image/png": "[encoded data removed]",
      "text/plain": [
       "<Figure size 432x288 with 1 Axes>"
      ]
     },
     "metadata": {},
     "output_type": "display_data"
    }
   ],
   "source": [
    "xs = np.array([1,2,3,4,5,6], dtype = np.float64)\n",
    "ys = np.array([5,4,6,5,6,7], dtype = np.float64)\n",
    "plt.scatter(xs, ys)\n",
    "plt.show()"
   ]
  },
  {
   "cell_type": "code",
   "execution_count": 28,
   "metadata": {},
   "outputs": [
    {
     "name": "stdout",
     "output_type": "stream",
     "text": [
      "0.42857142857142866 4.0\n"
     ]
    }
   ],
   "source": [
    "def best_fit_slope_and_intercept(xs, ys):\n",
    "    m = (((mean(xs) * mean(ys)) - mean(xs * ys)) / ((mean(xs))**2 - mean(xs**2)))\n",
    "    b = mean(ys) - (m*mean(xs))\n",
    "    return m,b\n",
    "m,b = best_fit_slope_and_intercept(xs,ys)\n",
    "print(m,b)"
   ]
  },
  {
   "cell_type": "code",
   "execution_count": 29,
   "metadata": {},
   "outputs": [
    {
     "data": {
      "image/png": "[encoded data removed]",
      "text/plain": [
       "<Figure size 432x288 with 1 Axes>"
      ]
     },
     "metadata": {},
     "output_type": "display_data"
    }
   ],
   "source": [
    "regression_line = [(m * x) + b for x in xs]\n",
    "\n",
    "\n",
    "plt.scatter(xs,ys)\n",
    "plt.plot(xs, regression_line)\n",
    "plt.show()"
   ]
  },
  {
   "cell_type": "code",
   "execution_count": 30,
   "metadata": {},
   "outputs": [
    {
     "data": {
      "image/png": "[encoded data removed]",
      "text/plain": [
       "<Figure size 432x288 with 1 Axes>"
      ]
     },
     "metadata": {},
     "output_type": "display_data"
    }
   ],
   "source": [
    "predict_x = 8\n",
    "predict_y = (m*predict_x) + b\n",
    "\n",
    "plt.scatter(xs,ys)\n",
    "plt.scatter(predict_x, predict_y, color = \"green\")\n",
    "plt.plot(xs, regression_line)\n",
    "plt.show()"
   ]
  },
  {
   "cell_type": "code",
   "execution_count": 31,
   "metadata": {},
   "outputs": [
    {
     "name": "stdout",
     "output_type": "stream",
     "text": [
      "0.5844155844155845\n"
     ]
    }
   ],
   "source": [
    "#determing accuracy of our line using R squared\n",
    "\n",
    "def squared_error(ys_orig, ys_line):\n",
    "    return sum((ys_line - ys_orig)**2)\n",
    "\n",
    "def coficient_of_determmination(ys_orig, ys_line):\n",
    "    ys_mean_line = [mean(ys_orig) for y in ys_orig]\n",
    "    squarred_error_regr = squared_error(ys_orig, ys_line)\n",
    "    squarred_error_y_mean = squared_error(ys_orig, ys_mean_line)\n",
    "    return 1 - (squarred_error_regr/squarred_error_y_mean)\n",
    "\n",
    "r_squared = coficient_of_determmination(ys, regression_line)\n",
    "print(r_squared)"
   ]
  },
  {
   "cell_type": "markdown",
   "metadata": {},
   "source": [
    "<h3>Testing assumptions</h3>"
   ]
  },
  {
   "cell_type": "code",
   "execution_count": 32,
   "metadata": {},
   "outputs": [],
   "source": [
    "def create_dataset(hm, variance, step=2, correlation=False):\n",
    "    val = 1\n",
    "    ys = []\n",
    "    for i in range(hm):\n",
    "        y = val + random.randrange(-variance, variance)\n",
    "        ys.append(y)\n",
    "        if correlation and correlation == \"pos\":\n",
    "            val+= step\n",
    "        elif correlation and correlation == \"neg\":\n",
    "            val-= step\n",
    "    xs =  [i for i in range(len(ys))]\n",
    "    return np.array(xs, dtype = np.float64), np.array(ys, dtype = np.float64)\n",
    "\n",
    "\n",
    "xs, ys = create_dataset(40, 20, 2, correlation = \"neg\")"
   ]
  },
  {
   "cell_type": "code",
   "execution_count": 33,
   "metadata": {},
   "outputs": [
    {
     "data": {
      "image/png": "[encoded data removed]",
      "text/plain": [
       "<Figure size 432x288 with 1 Axes>"
      ]
     },
     "metadata": {},
     "output_type": "display_data"
    }
   ],
   "source": [
    "plt.scatter(xs, ys)\n",
    "plt.show()"
   ]
  },
  {
   "cell_type": "code",
   "execution_count": 34,
   "metadata": {},
   "outputs": [
    {
     "name": "stdout",
     "output_type": "stream",
     "text": [
      "-2.1958724202626643 5.919512195121953\n"
     ]
    }
   ],
   "source": [
    "def best_fit_slope_and_intercept(xs, ys):\n",
    "    m = (((mean(xs) * mean(ys)) - mean(xs * ys)) / ((mean(xs))**2 - mean(xs**2)))\n",
    "    b = mean(ys) - (m*mean(xs))\n",
    "    return m,b\n",
    "m,b = best_fit_slope_and_intercept(xs,ys)\n",
    "print(m,b)"
   ]
  },
  {
   "cell_type": "code",
   "execution_count": null,
   "metadata": {},
   "outputs": [],
   "source": [
    "regression_line = [(m * x) + b for x in xs]\n",
    "\n",
    "plt.scatter(xs,ys)\n",
    "plt.plot(xs, regression_line)\n",
    "plt.show()\n",
    "\n",
    "predict_x = 8\n",
    "predict_y = (m*predict_x) + b\n",
    "\n",
    "plt.scatter(xs,ys)\n",
    "plt.scatter(predict_x, predict_y, s= 150, color = \"green\")\n",
    "plt.plot(xs, regression_line)\n",
    "plt.show()\n",
    "\n",
    "def squared_error(ys_orig, ys_line):\n",
    "    return sum((ys_line - ys_orig)**2)\n",
    "\n",
    "def coficient_of_determmination(ys_orig, ys_line):\n",
    "    ys_mean_line = [mean(ys_orig) for y in ys_orig]\n",
    "    squarred_error_regr = squared_error(ys_orig, ys_line)\n",
    "    squarred_error_y_mean = squared_error(ys_orig, ys_mean_line)\n",
    "    return 1 - (squarred_error_regr/squarred_error_y_mean)\n",
    "\n",
    "r_squared = coficient_of_determmination(ys, regression_line)\n",
    "print(r_squared)"
   ]
  },
  {
   "cell_type": "code",
   "execution_count": null,
   "metadata": {},
   "outputs": [],
   "source": []
  },
  {
   "cell_type": "markdown",
   "metadata": {},
   "source": [
    "<h3>Ridge regression</h3>"
   ]
  },
  {
   "cell_type": "code",
   "execution_count": 15,
   "metadata": {},
   "outputs": [
    {
     "data": {
      "text/plain": [
       "Ridge(alpha=1.0, copy_X=True, fit_intercept=True, max_iter=None,\n",
       "   normalize=False, random_state=None, solver='auto', tol=0.001)"
      ]
     },
     "execution_count": 15,
     "metadata": {},
     "output_type": "execute_result"
    }
   ],
   "source": [
    "ridge = Ridge()\n",
    "ridge.fit(X_train, y_train)"
   ]
  },
  {
   "cell_type": "code",
   "execution_count": 16,
   "metadata": {},
   "outputs": [
    {
     "name": "stdout",
     "output_type": "stream",
     "text": [
      "0.8857966585170941\n",
      "0.7527683481744751\n"
     ]
    }
   ],
   "source": [
    "training_set_score = ridge.score(X_train, y_train)\n",
    "test_set_score = ridge.score(X_test, y_test)\n",
    "\n",
    "print(training_set_score)\n",
    "print(test_set_score)"
   ]
  },
  {
   "cell_type": "code",
   "execution_count": 17,
   "metadata": {},
   "outputs": [
    {
     "name": "stdout",
     "output_type": "stream",
     "text": [
      "0.9282273685001985\n",
      "0.7722067936479954\n"
     ]
    }
   ],
   "source": [
    "#The paramaeter that is tuned here is alpha. By default, alpha is 1\n",
    "#Very small values of alpha has no effect. Infact, it's no different from a linear regression\n",
    "ridge_1 = Ridge(alpha = 0.1)\n",
    "ridge_1.fit(X_train, y_train)\n",
    "\n",
    "training_set_score = ridge_1.score(X_train, y_train)\n",
    "test_set_score = ridge_1.score(X_test, y_test)\n",
    "\n",
    "print(training_set_score)\n",
    "print(test_set_score)"
   ]
  },
  {
   "cell_type": "code",
   "execution_count": 18,
   "metadata": {},
   "outputs": [
    {
     "name": "stdout",
     "output_type": "stream",
     "text": [
      "0.7882787115369614\n",
      "0.6359411489177309\n"
     ]
    }
   ],
   "source": [
    "ridge_10 = Ridge(alpha = 10)\n",
    "ridge_10.fit(X_train, y_train)\n",
    "\n",
    "training_set_score = ridge_10.score(X_train, y_train)\n",
    "test_set_score = ridge_10.score(X_test, y_test)\n",
    "\n",
    "print(training_set_score)\n",
    "print(test_set_score)"
   ]
  },
  {
   "cell_type": "code",
   "execution_count": 19,
   "metadata": {},
   "outputs": [
    {
     "data": {
      "text/plain": [
       "<matplotlib.legend.Legend at 0x241fa932ef0>"
      ]
     },
     "execution_count": 19,
     "metadata": {},
     "output_type": "execute_result"
    },
    {
     "data": {
      "image/png": "[encoded data removed]",
      "text/plain": [
       "<Figure size 432x288 with 1 Axes>"
      ]
     },
     "metadata": {
      "needs_background": "light"
     },
     "output_type": "display_data"
    }
   ],
   "source": [
    "plt.plot(ridge.coef_, \"s\", label = \"Ridge alpha=1\")\n",
    "plt.plot(ridge_1.coef_, \"^\", label = \"Ridge alpha=0.1\")\n",
    "plt.plot(ridge_10.coef_, \"v\", label = \"Ridge alpha=10\")\n",
    "\n",
    "plt.plot(clf.coef_, \"o\", label = \"LinearRegression\")\n",
    "\n",
    "plt.xlabel(\"Coefficient index\")\n",
    "plt.ylabel(\"Coefficient magnitude\")\n",
    "plt.hlines(0,0, len(clf.coef_))\n",
    "plt.ylim(-25, 25)\n",
    "plt.legend()"
   ]
  },
  {
   "cell_type": "code",
   "execution_count": 20,
   "metadata": {},
   "outputs": [
    {
     "data": {
      "image/png": "[encoded data removed]",
      "text/plain": [
       "<Figure size 432x288 with 1 Axes>"
      ]
     },
     "metadata": {
      "needs_background": "light"
     },
     "output_type": "display_data"
    }
   ],
   "source": [
    "mglearn.plots.plot_ridge_n_samples()"
   ]
  },
  {
   "cell_type": "markdown",
   "metadata": {},
   "source": [
    "<h3>Lasso regression</h3>"
   ]
  },
  {
   "cell_type": "code",
   "execution_count": 21,
   "metadata": {},
   "outputs": [
    {
     "name": "stdout",
     "output_type": "stream",
     "text": [
      "0.29323768991114596\n",
      "0.20937503255272272\n"
     ]
    }
   ],
   "source": [
    "lasso = Lasso()\n",
    "lasso.fit(X_train, y_train)\n",
    "\n",
    "training_set_score = lasso.score(X_train, y_train)\n",
    "test_set_score = lasso.score(X_test, y_test)\n",
    "\n",
    "print(training_set_score)\n",
    "print(test_set_score)"
   ]
  },
  {
   "cell_type": "code",
   "execution_count": 22,
   "metadata": {},
   "outputs": [
    {
     "name": "stdout",
     "output_type": "stream",
     "text": [
      "4\n"
     ]
    }
   ],
   "source": [
    "#To get the number of features used in the lasso model\n",
    "no_of_features= np.sum(lasso.coef_ != 0)\n",
    "print(no_of_features)"
   ]
  },
  {
   "cell_type": "code",
   "execution_count": 23,
   "metadata": {},
   "outputs": [
    {
     "name": "stdout",
     "output_type": "stream",
     "text": [
      "0.8962226511086501\n",
      "0.7656571174549986\n",
      "33\n"
     ]
    }
   ],
   "source": [
    "#Lasso did badly with the default value of 1. We can also see that it used only 4 out of 105 features\n",
    "lasso_1 = Lasso(alpha = 0.01, max_iter = 100000)\n",
    "lasso_1.fit(X_train, y_train)\n",
    "\n",
    "training_set_score = lasso_1.score(X_train, y_train)\n",
    "test_set_score = lasso_1.score(X_test, y_test)\n",
    "\n",
    "print(training_set_score)\n",
    "print(test_set_score)\n",
    "\n",
    "no_of_features= np.sum(lasso_1.coef_ != 0)\n",
    "print(no_of_features)"
   ]
  },
  {
   "cell_type": "code",
   "execution_count": 24,
   "metadata": {},
   "outputs": [
    {
     "name": "stdout",
     "output_type": "stream",
     "text": [
      "0.9507158754515463\n",
      "0.6437467421272751\n",
      "96\n"
     ]
    }
   ],
   "source": [
    "lasso_2 = Lasso(alpha = 0.0001, max_iter = 100000)\n",
    "lasso_2.fit(X_train, y_train)\n",
    "\n",
    "training_set_score = lasso_2.score(X_train, y_train)\n",
    "test_set_score = lasso_2.score(X_test, y_test)\n",
    "\n",
    "print(training_set_score)\n",
    "print(test_set_score)\n",
    "\n",
    "no_of_features= np.sum(lasso_2.coef_ != 0)\n",
    "print(no_of_features)"
   ]
  },
  {
   "cell_type": "code",
   "execution_count": 25,
   "metadata": {},
   "outputs": [
    {
     "data": {
      "text/plain": [
       "(-25, 25)"
      ]
     },
     "execution_count": 25,
     "metadata": {},
     "output_type": "execute_result"
    },
    {
     "data": {
      "image/png": "[encoded data removed]",
      "text/plain": [
       "<Figure size 432x288 with 1 Axes>"
      ]
     },
     "metadata": {
      "needs_background": "light"
     },
     "output_type": "display_data"
    }
   ],
   "source": [
    "plt.plot(lasso.coef_, \"s\", label = \"Lasso alpha=1\")\n",
    "plt.plot(lasso_1.coef_, \"^\", label = \"Lasso alpha=0.01\")\n",
    "plt.plot(lasso_2.coef_, \"v\", label = \"Lasso alpha=0.0001\")\n",
    "\n",
    "plt.plot(ridge_1.coef_, \"o\", label = \"Ridge alpha = 0.1\")\n",
    "\n",
    "plt.legend(ncol=2, loc=(0,1.05))\n",
    "plt.xlabel(\"Coefficient index\")\n",
    "plt.ylabel(\"Coefficient magnitude\")\n",
    "# plt.hlines(0,0, len(clf.coef_))\n",
    "plt.ylim(-25, 25)\n"
   ]
  },
  {
   "cell_type": "markdown",
   "metadata": {},
   "source": [
    "<h3>References</h3>"
   ]
  },
  {
   "cell_type": "markdown",
   "metadata": {},
   "source": [
    "<li>Machine learning tutorial on <a href = https://pythonprogramming.net/machine-learning-tutorial-python-introduction/> programming.net</a></li>\n",
    "\n",
    "<li><b>Introduction to Machine learning</b> by Andreas C.Muller and Sarah Guido</li>"
   ]
  }
 ],
 "metadata": {
  "kernelspec": {
   "display_name": "Python 3",
   "language": "python",
   "name": "python3"
  },
  "language_info": {
   "codemirror_mode": {
    "name": "ipython",
    "version": 3
   },
   "file_extension": ".py",
   "mimetype": "text/x-python",
   "name": "python",
   "nbconvert_exporter": "python",
   "pygments_lexer": "ipython3",
   "version": "3.7.3"
  }
 },
 "nbformat": 4,
 "nbformat_minor": 2
}
