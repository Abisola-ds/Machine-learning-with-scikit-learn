{
  "nbformat": 4,
  "nbformat_minor": 0,
  "metadata": {
    "kernelspec": {
      "display_name": "Python 3",
      "language": "python",
      "name": "python3"
    },
    "language_info": {
      "codemirror_mode": {
        "name": "ipython",
        "version": 3
      },
      "file_extension": ".py",
      "mimetype": "text/x-python",
      "name": "python",
      "nbconvert_exporter": "python",
      "pygments_lexer": "ipython3",
      "version": "3.7.3"
    },
    "colab": {
      "name": "Classification algorithm.ipynb",
      "provenance": [],
      "include_colab_link": true
    }
  },
  "cells": [
    {
      "cell_type": "markdown",
      "metadata": {
        "id": "view-in-github",
        "colab_type": "text"
      },
      "source": [
        "<a href=\"https://colab.research.google.com/github/Abisola-ds/Machine-learning-with-scikit-learn/blob/master/Classification%20algorithm.ipynb\" target=\"_parent\"><img src=\"https://colab.research.google.com/assets/colab-badge.svg\" alt=\"Open In Colab\"/></a>"
      ]
    },
    {
      "cell_type": "markdown",
      "metadata": {
        "id": "01_Rf2nwfNct",
        "colab_type": "text"
      },
      "source": [
        "<h1 align = 'center'>Classification Algorithms</h1>"
      ]
    },
    {
      "cell_type": "markdown",
      "metadata": {
        "id": "iwh9XRyAfNcx",
        "colab_type": "text"
      },
      "source": [
        "Note: This notebook is an excerpt from the Machine learning tutorial on <a href = https://pythonprogramming.net/machine-learning-tutorial-python-introduction/> programming.net</a> and the book titled: <b>Introduction to Machine learning</b> by Andreas C.Muller and Sarah Guido"
      ]
    },
    {
      "cell_type": "markdown",
      "metadata": {
        "id": "B79PjI8ufNc2",
        "colab_type": "text"
      },
      "source": [
        "<div class=\"alert alert-info\">\n",
        "Classification is a supervised learning algorithm in which the machine learn to classify new data points into a particualr based on labeled data inputs. Here, you feed some set of labeled inputs data to the machine and then the machine learns from this data and then based on this takes in a new data set for which there is no lable and give it the appropraite label\n",
        "</div>"
      ]
    },
    {
      "cell_type": "markdown",
      "metadata": {
        "id": "akmR8I14fNc9",
        "colab_type": "text"
      },
      "source": [
        "<div class=\"alert alert-info\">\n",
        "The data that we're going to be working with is the Iris Dataset.\n",
        "It is one of the preloaded dataset in the Sklearn library which you can access using the import statement below:<br>\n",
        "    <b>from sklearn.datasets import load_iris</b>\n",
        " \n",
        "<p>Note: This is a supervised learning problem where we can predict the specie of an iris plant based on 4 attributes (the petal length, the sepal length, the sepal width, and the petal width) </p>\n",
        "\n",
        "<p>We would use different classification algorithms and compare their accuracy</p>\n",
        "</div>"
      ]
    },
    {
      "cell_type": "code",
      "metadata": {
        "id": "evEmncljfNc_",
        "colab_type": "code",
        "colab": {}
      },
      "source": [
        "import numpy as np\n",
        "import mglearn\n",
        "from sklearn.model_selection import train_test_split\n",
        "from sklearn.neighbors import KNeighborsClassifier\n",
        "import matplotlib.pyplot as plt\n",
        "from sklearn import neighbors, svm\n",
        "from matplotlib.colors import ListedColormap\n",
        "import numpy as np\n",
        "from sklearn.linear_model import LogisticRegression\n",
        "from sklearn.datasets import make_blobs\n",
        "from sklearn.svm import LinearSVC\n",
        "import pandas as pd"
      ],
      "execution_count": null,
      "outputs": []
    },
    {
      "cell_type": "markdown",
      "metadata": {
        "id": "eofQlyjQfNdU",
        "colab_type": "text"
      },
      "source": [
        "<div class=\"alert alert-info\">\n",
        "Before we build our model, let's take a look at what our dataset looks like.\n",
        "</div>"
      ]
    },
    {
      "cell_type": "code",
      "metadata": {
        "id": "792xVO3TfNdx",
        "colab_type": "code",
        "colab": {}
      },
      "source": [
        "from sklearn.datasets import load_iris\n",
        "\n",
        "iris_data = load_iris()         #The iris data set is stored as an object similar to a dictionary with key and value pairs"
      ],
      "execution_count": null,
      "outputs": []
    },
    {
      "cell_type": "code",
      "metadata": {
        "id": "O9RBA_15fNeF",
        "colab_type": "code",
        "colab": {},
        "outputId": "00a9e43d-185e-4ec4-cfd4-a2229cb2e368"
      },
      "source": [
        "#We want to see the keys of the iris data set\n",
        "\n",
        "print(iris_data.keys())"
      ],
      "execution_count": null,
      "outputs": [
        {
          "output_type": "stream",
          "text": [
            "dict_keys(['data', 'target', 'target_names', 'DESCR', 'feature_names', 'filename'])\n"
          ],
          "name": "stdout"
        }
      ]
    },
    {
      "cell_type": "markdown",
      "metadata": {
        "id": "3hYuJQb5fNec",
        "colab_type": "text"
      },
      "source": [
        "<div class=\"alert alert-info\">\n",
        "Now lets see the values that corresponds to each key</div>"
      ]
    },
    {
      "cell_type": "code",
      "metadata": {
        "id": "keSy1isefNee",
        "colab_type": "code",
        "colab": {},
        "outputId": "7894c00b-eb7a-4ea3-c69e-24129da9f71e"
      },
      "source": [
        "#displaying the first five values of the key \"data\"  \n",
        "print(iris_data[\"data\"][:5]) "
      ],
      "execution_count": null,
      "outputs": [
        {
          "output_type": "stream",
          "text": [
            "[[5.1 3.5 1.4 0.2]\n",
            " [4.9 3.  1.4 0.2]\n",
            " [4.7 3.2 1.3 0.2]\n",
            " [4.6 3.1 1.5 0.2]\n",
            " [5.  3.6 1.4 0.2]]\n"
          ],
          "name": "stdout"
        }
      ]
    },
    {
      "cell_type": "markdown",
      "metadata": {
        "id": "VJOWkaTifNe0",
        "colab_type": "text"
      },
      "source": [
        "<div class=\"alert alert-info\">The <b>'data' </b>key holds the petal and sepal lengths and widths which we will use as our input variable to the machine laerning project</div>"
      ]
    },
    {
      "cell_type": "code",
      "metadata": {
        "id": "2kxv7R-OfNe3",
        "colab_type": "code",
        "colab": {},
        "outputId": "e04cb8f2-2dda-411d-b667-2d8995d7da44"
      },
      "source": [
        "#displaying the values of the key \"target\"  \n",
        "\n",
        "print(iris_data[\"target\"]) "
      ],
      "execution_count": null,
      "outputs": [
        {
          "output_type": "stream",
          "text": [
            "[0 0 0 0 0 0 0 0 0 0 0 0 0 0 0 0 0 0 0 0 0 0 0 0 0 0 0 0 0 0 0 0 0 0 0 0 0\n",
            " 0 0 0 0 0 0 0 0 0 0 0 0 0 1 1 1 1 1 1 1 1 1 1 1 1 1 1 1 1 1 1 1 1 1 1 1 1\n",
            " 1 1 1 1 1 1 1 1 1 1 1 1 1 1 1 1 1 1 1 1 1 1 1 1 1 1 2 2 2 2 2 2 2 2 2 2 2\n",
            " 2 2 2 2 2 2 2 2 2 2 2 2 2 2 2 2 2 2 2 2 2 2 2 2 2 2 2 2 2 2 2 2 2 2 2 2 2\n",
            " 2 2]\n"
          ],
          "name": "stdout"
        }
      ]
    },
    {
      "cell_type": "markdown",
      "metadata": {
        "id": "tI7-GyfBfNfM",
        "colab_type": "text"
      },
      "source": [
        "<div class=\"alert alert-info\">\n",
        "This shows there are 150 data points and the target value has 3 unique values(0,1,and 2). We can also see that the values are ordered</div>"
      ]
    },
    {
      "cell_type": "code",
      "metadata": {
        "id": "6xWdLLy5fNfQ",
        "colab_type": "code",
        "colab": {},
        "outputId": "be5aeeb2-72e9-4bf4-fb1c-8e01f835994d"
      },
      "source": [
        "#displaying the values of the key \"target names\" \n",
        "    \n",
        "print(iris_data[\"target_names\"])"
      ],
      "execution_count": null,
      "outputs": [
        {
          "output_type": "stream",
          "text": [
            "['setosa' 'versicolor' 'virginica']\n"
          ],
          "name": "stdout"
        }
      ]
    },
    {
      "cell_type": "markdown",
      "metadata": {
        "id": "4-9T980YfNfp",
        "colab_type": "text"
      },
      "source": [
        "<div class=\"alert alert-info\">\n",
        "so, we can see the target names corresponding the the target values.<br>\n",
        "    <b>This implies 0 >>>> setosa, 1>>>>>versicolor, and 2 >>>>>>>virginica</b></div>"
      ]
    },
    {
      "cell_type": "code",
      "metadata": {
        "collapsed": true,
        "id": "iScAbQY-fNfr",
        "colab_type": "code",
        "colab": {},
        "outputId": "c2d0c9a9-5cd1-4cd3-c9b0-0003306c9b3b"
      },
      "source": [
        "#displaying the values of the key \"DESCR\" \n",
        "\n",
        "print(iris_data[\"DESCR\"])       \n",
        "\n",
        "#this gives us the description of our data set"
      ],
      "execution_count": null,
      "outputs": [
        {
          "output_type": "stream",
          "text": [
            ".. _iris_dataset:\n",
            "\n",
            "Iris plants dataset\n",
            "--------------------\n",
            "\n",
            "**Data Set Characteristics:**\n",
            "\n",
            "    :Number of Instances: 150 (50 in each of three classes)\n",
            "    :Number of Attributes: 4 numeric, predictive attributes and the class\n",
            "    :Attribute Information:\n",
            "        - sepal length in cm\n",
            "        - sepal width in cm\n",
            "        - petal length in cm\n",
            "        - petal width in cm\n",
            "        - class:\n",
            "                - Iris-Setosa\n",
            "                - Iris-Versicolour\n",
            "                - Iris-Virginica\n",
            "                \n",
            "    :Summary Statistics:\n",
            "\n",
            "    ============== ==== ==== ======= ===== ====================\n",
            "                    Min  Max   Mean    SD   Class Correlation\n",
            "    ============== ==== ==== ======= ===== ====================\n",
            "    sepal length:   4.3  7.9   5.84   0.83    0.7826\n",
            "    sepal width:    2.0  4.4   3.05   0.43   -0.4194\n",
            "    petal length:   1.0  6.9   3.76   1.76    0.9490  (high!)\n",
            "    petal width:    0.1  2.5   1.20   0.76    0.9565  (high!)\n",
            "    ============== ==== ==== ======= ===== ====================\n",
            "\n",
            "    :Missing Attribute Values: None\n",
            "    :Class Distribution: 33.3% for each of 3 classes.\n",
            "    :Creator: R.A. Fisher\n",
            "    :Donor: Michael Marshall (MARSHALL%PLU@io.arc.nasa.gov)\n",
            "    :Date: July, 1988\n",
            "\n",
            "The famous Iris database, first used by Sir R.A. Fisher. The dataset is taken\n",
            "from Fisher's paper. Note that it's the same as in R, but not as in the UCI\n",
            "Machine Learning Repository, which has two wrong data points.\n",
            "\n",
            "This is perhaps the best known database to be found in the\n",
            "pattern recognition literature.  Fisher's paper is a classic in the field and\n",
            "is referenced frequently to this day.  (See Duda & Hart, for example.)  The\n",
            "data set contains 3 classes of 50 instances each, where each class refers to a\n",
            "type of iris plant.  One class is linearly separable from the other 2; the\n",
            "latter are NOT linearly separable from each other.\n",
            "\n",
            ".. topic:: References\n",
            "\n",
            "   - Fisher, R.A. \"The use of multiple measurements in taxonomic problems\"\n",
            "     Annual Eugenics, 7, Part II, 179-188 (1936); also in \"Contributions to\n",
            "     Mathematical Statistics\" (John Wiley, NY, 1950).\n",
            "   - Duda, R.O., & Hart, P.E. (1973) Pattern Classification and Scene Analysis.\n",
            "     (Q327.D83) John Wiley & Sons.  ISBN 0-471-22361-1.  See page 218.\n",
            "   - Dasarathy, B.V. (1980) \"Nosing Around the Neighborhood: A New System\n",
            "     Structure and Classification Rule for Recognition in Partially Exposed\n",
            "     Environments\".  IEEE Transactions on Pattern Analysis and Machine\n",
            "     Intelligence, Vol. PAMI-2, No. 1, 67-71.\n",
            "   - Gates, G.W. (1972) \"The Reduced Nearest Neighbor Rule\".  IEEE Transactions\n",
            "     on Information Theory, May 1972, 431-433.\n",
            "   - See also: 1988 MLC Proceedings, 54-64.  Cheeseman et al\"s AUTOCLASS II\n",
            "     conceptual clustering system finds 3 classes in the data.\n",
            "   - Many, many more ...\n"
          ],
          "name": "stdout"
        }
      ]
    },
    {
      "cell_type": "code",
      "metadata": {
        "id": "6EN0iVd0fNf2",
        "colab_type": "code",
        "colab": {},
        "outputId": "8fb1a1a3-f779-4cf4-892f-d248734e46ea"
      },
      "source": [
        "#displaying the values of the key \"feature names\" \n",
        "\n",
        "print(iris_data[\"feature_names\"])       "
      ],
      "execution_count": null,
      "outputs": [
        {
          "output_type": "stream",
          "text": [
            "['sepal length (cm)', 'sepal width (cm)', 'petal length (cm)', 'petal width (cm)']\n"
          ],
          "name": "stdout"
        }
      ]
    },
    {
      "cell_type": "code",
      "metadata": {
        "id": "cW-5U-tXfNgC",
        "colab_type": "code",
        "colab": {},
        "outputId": "8a1786ba-a8c5-4caf-fe02-cb3c7a6e2878"
      },
      "source": [
        "#displaying the values of the key \"filename\" \n",
        "\n",
        "print(iris_data[\"filename\"])      "
      ],
      "execution_count": null,
      "outputs": [
        {
          "output_type": "stream",
          "text": [
            "C:\\Users\\Abisola Fikayomi\\Anaconda3\\lib\\site-packages\\sklearn\\datasets\\data\\iris.csv\n"
          ],
          "name": "stdout"
        }
      ]
    },
    {
      "cell_type": "markdown",
      "metadata": {
        "id": "_l6iznrefNgR",
        "colab_type": "text"
      },
      "source": [
        "<div class=\"alert alert-info\">\n",
        "\n",
        "Next thing is to split our data to training and testing data\n",
        "Scikit learn has a module called <b>\"train_test_split\"</b> which we can use to split our data into training and testing set\n",
        "</div>"
      ]
    },
    {
      "cell_type": "code",
      "metadata": {
        "id": "5aJES3NBfNgU",
        "colab_type": "code",
        "colab": {}
      },
      "source": [
        "#So, we go ahead and import the module\n",
        "from sklearn.model_selection import train_test_split"
      ],
      "execution_count": null,
      "outputs": []
    },
    {
      "cell_type": "code",
      "metadata": {
        "id": "lpRsmV9wfNgi",
        "colab_type": "code",
        "colab": {}
      },
      "source": [
        "X_train, X_test, y_train, y_test = train_test_split(iris_data[\"data\"], iris_data[\"target\"], random_state =66)"
      ],
      "execution_count": null,
      "outputs": []
    },
    {
      "cell_type": "code",
      "metadata": {
        "id": "URV9MPq2fNgw",
        "colab_type": "code",
        "colab": {},
        "outputId": "1f50b742-3691-4606-dbfd-c528fb78ce76"
      },
      "source": [
        "print(X_train.shape)\n",
        "print(y_train.shape)"
      ],
      "execution_count": null,
      "outputs": [
        {
          "output_type": "stream",
          "text": [
            "(112, 4)\n",
            "(112,)\n"
          ],
          "name": "stdout"
        }
      ]
    },
    {
      "cell_type": "code",
      "metadata": {
        "id": "a1HnTP9FfNg6",
        "colab_type": "code",
        "colab": {},
        "outputId": "d4c5878c-b3ac-4839-ecb2-283d0a5b5970"
      },
      "source": [
        "print(X_test.shape)\n",
        "print(y_test.shape)"
      ],
      "execution_count": null,
      "outputs": [
        {
          "output_type": "stream",
          "text": [
            "(38, 4)\n",
            "(38,)\n"
          ],
          "name": "stdout"
        }
      ]
    },
    {
      "cell_type": "code",
      "metadata": {
        "id": "AMU2MCZ1fNhJ",
        "colab_type": "code",
        "colab": {}
      },
      "source": [
        "#Inspecting our data\n",
        "import numpy as np\n",
        "import pandas as pd"
      ],
      "execution_count": null,
      "outputs": []
    },
    {
      "cell_type": "code",
      "metadata": {
        "collapsed": true,
        "id": "cf4NS9EffNhq",
        "colab_type": "code",
        "colab": {},
        "outputId": "0b7f4d40-d84e-49a9-dc80-71db745401b9"
      },
      "source": [
        "#first, we want to convert our training dataset to a data frame\n",
        "iris_dataframe = pd.DataFrame(X_train, columns = iris_data.feature_names)\n",
        "iris_dataframe"
      ],
      "execution_count": null,
      "outputs": [
        {
          "output_type": "execute_result",
          "data": {
            "text/html": [
              "<div>\n",
              "<style scoped>\n",
              "    .dataframe tbody tr th:only-of-type {\n",
              "        vertical-align: middle;\n",
              "    }\n",
              "\n",
              "    .dataframe tbody tr th {\n",
              "        vertical-align: top;\n",
              "    }\n",
              "\n",
              "    .dataframe thead th {\n",
              "        text-align: right;\n",
              "    }\n",
              "</style>\n",
              "<table border=\"1\" class=\"dataframe\">\n",
              "  <thead>\n",
              "    <tr style=\"text-align: right;\">\n",
              "      <th></th>\n",
              "      <th>sepal length (cm)</th>\n",
              "      <th>sepal width (cm)</th>\n",
              "      <th>petal length (cm)</th>\n",
              "      <th>petal width (cm)</th>\n",
              "    </tr>\n",
              "  </thead>\n",
              "  <tbody>\n",
              "    <tr>\n",
              "      <th>0</th>\n",
              "      <td>6.7</td>\n",
              "      <td>3.0</td>\n",
              "      <td>5.0</td>\n",
              "      <td>1.7</td>\n",
              "    </tr>\n",
              "    <tr>\n",
              "      <th>1</th>\n",
              "      <td>5.7</td>\n",
              "      <td>2.8</td>\n",
              "      <td>4.1</td>\n",
              "      <td>1.3</td>\n",
              "    </tr>\n",
              "    <tr>\n",
              "      <th>2</th>\n",
              "      <td>5.1</td>\n",
              "      <td>3.7</td>\n",
              "      <td>1.5</td>\n",
              "      <td>0.4</td>\n",
              "    </tr>\n",
              "    <tr>\n",
              "      <th>3</th>\n",
              "      <td>6.9</td>\n",
              "      <td>3.1</td>\n",
              "      <td>4.9</td>\n",
              "      <td>1.5</td>\n",
              "    </tr>\n",
              "    <tr>\n",
              "      <th>4</th>\n",
              "      <td>6.5</td>\n",
              "      <td>3.0</td>\n",
              "      <td>5.8</td>\n",
              "      <td>2.2</td>\n",
              "    </tr>\n",
              "    <tr>\n",
              "      <th>5</th>\n",
              "      <td>5.8</td>\n",
              "      <td>2.7</td>\n",
              "      <td>3.9</td>\n",
              "      <td>1.2</td>\n",
              "    </tr>\n",
              "    <tr>\n",
              "      <th>6</th>\n",
              "      <td>6.3</td>\n",
              "      <td>3.3</td>\n",
              "      <td>4.7</td>\n",
              "      <td>1.6</td>\n",
              "    </tr>\n",
              "    <tr>\n",
              "      <th>7</th>\n",
              "      <td>5.6</td>\n",
              "      <td>2.5</td>\n",
              "      <td>3.9</td>\n",
              "      <td>1.1</td>\n",
              "    </tr>\n",
              "    <tr>\n",
              "      <th>8</th>\n",
              "      <td>5.8</td>\n",
              "      <td>4.0</td>\n",
              "      <td>1.2</td>\n",
              "      <td>0.2</td>\n",
              "    </tr>\n",
              "    <tr>\n",
              "      <th>9</th>\n",
              "      <td>6.0</td>\n",
              "      <td>3.4</td>\n",
              "      <td>4.5</td>\n",
              "      <td>1.6</td>\n",
              "    </tr>\n",
              "    <tr>\n",
              "      <th>10</th>\n",
              "      <td>6.2</td>\n",
              "      <td>2.2</td>\n",
              "      <td>4.5</td>\n",
              "      <td>1.5</td>\n",
              "    </tr>\n",
              "    <tr>\n",
              "      <th>11</th>\n",
              "      <td>6.7</td>\n",
              "      <td>3.1</td>\n",
              "      <td>5.6</td>\n",
              "      <td>2.4</td>\n",
              "    </tr>\n",
              "    <tr>\n",
              "      <th>12</th>\n",
              "      <td>6.4</td>\n",
              "      <td>3.2</td>\n",
              "      <td>5.3</td>\n",
              "      <td>2.3</td>\n",
              "    </tr>\n",
              "    <tr>\n",
              "      <th>13</th>\n",
              "      <td>4.9</td>\n",
              "      <td>3.6</td>\n",
              "      <td>1.4</td>\n",
              "      <td>0.1</td>\n",
              "    </tr>\n",
              "    <tr>\n",
              "      <th>14</th>\n",
              "      <td>5.8</td>\n",
              "      <td>2.7</td>\n",
              "      <td>5.1</td>\n",
              "      <td>1.9</td>\n",
              "    </tr>\n",
              "    <tr>\n",
              "      <th>15</th>\n",
              "      <td>6.2</td>\n",
              "      <td>2.8</td>\n",
              "      <td>4.8</td>\n",
              "      <td>1.8</td>\n",
              "    </tr>\n",
              "    <tr>\n",
              "      <th>16</th>\n",
              "      <td>6.7</td>\n",
              "      <td>3.3</td>\n",
              "      <td>5.7</td>\n",
              "      <td>2.5</td>\n",
              "    </tr>\n",
              "    <tr>\n",
              "      <th>17</th>\n",
              "      <td>7.9</td>\n",
              "      <td>3.8</td>\n",
              "      <td>6.4</td>\n",
              "      <td>2.0</td>\n",
              "    </tr>\n",
              "    <tr>\n",
              "      <th>18</th>\n",
              "      <td>4.6</td>\n",
              "      <td>3.6</td>\n",
              "      <td>1.0</td>\n",
              "      <td>0.2</td>\n",
              "    </tr>\n",
              "    <tr>\n",
              "      <th>19</th>\n",
              "      <td>7.4</td>\n",
              "      <td>2.8</td>\n",
              "      <td>6.1</td>\n",
              "      <td>1.9</td>\n",
              "    </tr>\n",
              "    <tr>\n",
              "      <th>20</th>\n",
              "      <td>4.6</td>\n",
              "      <td>3.2</td>\n",
              "      <td>1.4</td>\n",
              "      <td>0.2</td>\n",
              "    </tr>\n",
              "    <tr>\n",
              "      <th>21</th>\n",
              "      <td>7.7</td>\n",
              "      <td>3.0</td>\n",
              "      <td>6.1</td>\n",
              "      <td>2.3</td>\n",
              "    </tr>\n",
              "    <tr>\n",
              "      <th>22</th>\n",
              "      <td>4.6</td>\n",
              "      <td>3.1</td>\n",
              "      <td>1.5</td>\n",
              "      <td>0.2</td>\n",
              "    </tr>\n",
              "    <tr>\n",
              "      <th>23</th>\n",
              "      <td>5.0</td>\n",
              "      <td>3.5</td>\n",
              "      <td>1.6</td>\n",
              "      <td>0.6</td>\n",
              "    </tr>\n",
              "    <tr>\n",
              "      <th>24</th>\n",
              "      <td>6.3</td>\n",
              "      <td>2.7</td>\n",
              "      <td>4.9</td>\n",
              "      <td>1.8</td>\n",
              "    </tr>\n",
              "    <tr>\n",
              "      <th>25</th>\n",
              "      <td>5.2</td>\n",
              "      <td>3.4</td>\n",
              "      <td>1.4</td>\n",
              "      <td>0.2</td>\n",
              "    </tr>\n",
              "    <tr>\n",
              "      <th>26</th>\n",
              "      <td>4.4</td>\n",
              "      <td>3.0</td>\n",
              "      <td>1.3</td>\n",
              "      <td>0.2</td>\n",
              "    </tr>\n",
              "    <tr>\n",
              "      <th>27</th>\n",
              "      <td>7.7</td>\n",
              "      <td>2.6</td>\n",
              "      <td>6.9</td>\n",
              "      <td>2.3</td>\n",
              "    </tr>\n",
              "    <tr>\n",
              "      <th>28</th>\n",
              "      <td>5.5</td>\n",
              "      <td>2.4</td>\n",
              "      <td>3.7</td>\n",
              "      <td>1.0</td>\n",
              "    </tr>\n",
              "    <tr>\n",
              "      <th>29</th>\n",
              "      <td>4.7</td>\n",
              "      <td>3.2</td>\n",
              "      <td>1.6</td>\n",
              "      <td>0.2</td>\n",
              "    </tr>\n",
              "    <tr>\n",
              "      <th>...</th>\n",
              "      <td>...</td>\n",
              "      <td>...</td>\n",
              "      <td>...</td>\n",
              "      <td>...</td>\n",
              "    </tr>\n",
              "    <tr>\n",
              "      <th>82</th>\n",
              "      <td>5.0</td>\n",
              "      <td>3.2</td>\n",
              "      <td>1.2</td>\n",
              "      <td>0.2</td>\n",
              "    </tr>\n",
              "    <tr>\n",
              "      <th>83</th>\n",
              "      <td>5.8</td>\n",
              "      <td>2.8</td>\n",
              "      <td>5.1</td>\n",
              "      <td>2.4</td>\n",
              "    </tr>\n",
              "    <tr>\n",
              "      <th>84</th>\n",
              "      <td>6.1</td>\n",
              "      <td>2.8</td>\n",
              "      <td>4.0</td>\n",
              "      <td>1.3</td>\n",
              "    </tr>\n",
              "    <tr>\n",
              "      <th>85</th>\n",
              "      <td>4.9</td>\n",
              "      <td>3.1</td>\n",
              "      <td>1.5</td>\n",
              "      <td>0.2</td>\n",
              "    </tr>\n",
              "    <tr>\n",
              "      <th>86</th>\n",
              "      <td>6.4</td>\n",
              "      <td>2.8</td>\n",
              "      <td>5.6</td>\n",
              "      <td>2.2</td>\n",
              "    </tr>\n",
              "    <tr>\n",
              "      <th>87</th>\n",
              "      <td>5.8</td>\n",
              "      <td>2.6</td>\n",
              "      <td>4.0</td>\n",
              "      <td>1.2</td>\n",
              "    </tr>\n",
              "    <tr>\n",
              "      <th>88</th>\n",
              "      <td>6.9</td>\n",
              "      <td>3.2</td>\n",
              "      <td>5.7</td>\n",
              "      <td>2.3</td>\n",
              "    </tr>\n",
              "    <tr>\n",
              "      <th>89</th>\n",
              "      <td>4.9</td>\n",
              "      <td>2.4</td>\n",
              "      <td>3.3</td>\n",
              "      <td>1.0</td>\n",
              "    </tr>\n",
              "    <tr>\n",
              "      <th>90</th>\n",
              "      <td>6.7</td>\n",
              "      <td>3.0</td>\n",
              "      <td>5.2</td>\n",
              "      <td>2.3</td>\n",
              "    </tr>\n",
              "    <tr>\n",
              "      <th>91</th>\n",
              "      <td>5.1</td>\n",
              "      <td>3.8</td>\n",
              "      <td>1.9</td>\n",
              "      <td>0.4</td>\n",
              "    </tr>\n",
              "    <tr>\n",
              "      <th>92</th>\n",
              "      <td>4.9</td>\n",
              "      <td>3.1</td>\n",
              "      <td>1.5</td>\n",
              "      <td>0.1</td>\n",
              "    </tr>\n",
              "    <tr>\n",
              "      <th>93</th>\n",
              "      <td>5.0</td>\n",
              "      <td>3.5</td>\n",
              "      <td>1.3</td>\n",
              "      <td>0.3</td>\n",
              "    </tr>\n",
              "    <tr>\n",
              "      <th>94</th>\n",
              "      <td>4.8</td>\n",
              "      <td>3.0</td>\n",
              "      <td>1.4</td>\n",
              "      <td>0.1</td>\n",
              "    </tr>\n",
              "    <tr>\n",
              "      <th>95</th>\n",
              "      <td>6.3</td>\n",
              "      <td>3.4</td>\n",
              "      <td>5.6</td>\n",
              "      <td>2.4</td>\n",
              "    </tr>\n",
              "    <tr>\n",
              "      <th>96</th>\n",
              "      <td>4.6</td>\n",
              "      <td>3.4</td>\n",
              "      <td>1.4</td>\n",
              "      <td>0.3</td>\n",
              "    </tr>\n",
              "    <tr>\n",
              "      <th>97</th>\n",
              "      <td>4.7</td>\n",
              "      <td>3.2</td>\n",
              "      <td>1.3</td>\n",
              "      <td>0.2</td>\n",
              "    </tr>\n",
              "    <tr>\n",
              "      <th>98</th>\n",
              "      <td>5.2</td>\n",
              "      <td>4.1</td>\n",
              "      <td>1.5</td>\n",
              "      <td>0.1</td>\n",
              "    </tr>\n",
              "    <tr>\n",
              "      <th>99</th>\n",
              "      <td>6.4</td>\n",
              "      <td>2.9</td>\n",
              "      <td>4.3</td>\n",
              "      <td>1.3</td>\n",
              "    </tr>\n",
              "    <tr>\n",
              "      <th>100</th>\n",
              "      <td>6.8</td>\n",
              "      <td>3.2</td>\n",
              "      <td>5.9</td>\n",
              "      <td>2.3</td>\n",
              "    </tr>\n",
              "    <tr>\n",
              "      <th>101</th>\n",
              "      <td>6.6</td>\n",
              "      <td>3.0</td>\n",
              "      <td>4.4</td>\n",
              "      <td>1.4</td>\n",
              "    </tr>\n",
              "    <tr>\n",
              "      <th>102</th>\n",
              "      <td>5.2</td>\n",
              "      <td>3.5</td>\n",
              "      <td>1.5</td>\n",
              "      <td>0.2</td>\n",
              "    </tr>\n",
              "    <tr>\n",
              "      <th>103</th>\n",
              "      <td>5.1</td>\n",
              "      <td>3.4</td>\n",
              "      <td>1.5</td>\n",
              "      <td>0.2</td>\n",
              "    </tr>\n",
              "    <tr>\n",
              "      <th>104</th>\n",
              "      <td>6.3</td>\n",
              "      <td>2.5</td>\n",
              "      <td>5.0</td>\n",
              "      <td>1.9</td>\n",
              "    </tr>\n",
              "    <tr>\n",
              "      <th>105</th>\n",
              "      <td>5.5</td>\n",
              "      <td>2.6</td>\n",
              "      <td>4.4</td>\n",
              "      <td>1.2</td>\n",
              "    </tr>\n",
              "    <tr>\n",
              "      <th>106</th>\n",
              "      <td>5.7</td>\n",
              "      <td>2.6</td>\n",
              "      <td>3.5</td>\n",
              "      <td>1.0</td>\n",
              "    </tr>\n",
              "    <tr>\n",
              "      <th>107</th>\n",
              "      <td>7.7</td>\n",
              "      <td>2.8</td>\n",
              "      <td>6.7</td>\n",
              "      <td>2.0</td>\n",
              "    </tr>\n",
              "    <tr>\n",
              "      <th>108</th>\n",
              "      <td>6.4</td>\n",
              "      <td>3.2</td>\n",
              "      <td>4.5</td>\n",
              "      <td>1.5</td>\n",
              "    </tr>\n",
              "    <tr>\n",
              "      <th>109</th>\n",
              "      <td>6.0</td>\n",
              "      <td>2.2</td>\n",
              "      <td>5.0</td>\n",
              "      <td>1.5</td>\n",
              "    </tr>\n",
              "    <tr>\n",
              "      <th>110</th>\n",
              "      <td>5.0</td>\n",
              "      <td>2.0</td>\n",
              "      <td>3.5</td>\n",
              "      <td>1.0</td>\n",
              "    </tr>\n",
              "    <tr>\n",
              "      <th>111</th>\n",
              "      <td>5.4</td>\n",
              "      <td>3.4</td>\n",
              "      <td>1.7</td>\n",
              "      <td>0.2</td>\n",
              "    </tr>\n",
              "  </tbody>\n",
              "</table>\n",
              "<p>112 rows × 4 columns</p>\n",
              "</div>"
            ],
            "text/plain": [
              "     sepal length (cm)  sepal width (cm)  petal length (cm)  petal width (cm)\n",
              "0                  6.7               3.0                5.0               1.7\n",
              "1                  5.7               2.8                4.1               1.3\n",
              "2                  5.1               3.7                1.5               0.4\n",
              "3                  6.9               3.1                4.9               1.5\n",
              "4                  6.5               3.0                5.8               2.2\n",
              "5                  5.8               2.7                3.9               1.2\n",
              "6                  6.3               3.3                4.7               1.6\n",
              "7                  5.6               2.5                3.9               1.1\n",
              "8                  5.8               4.0                1.2               0.2\n",
              "9                  6.0               3.4                4.5               1.6\n",
              "10                 6.2               2.2                4.5               1.5\n",
              "11                 6.7               3.1                5.6               2.4\n",
              "12                 6.4               3.2                5.3               2.3\n",
              "13                 4.9               3.6                1.4               0.1\n",
              "14                 5.8               2.7                5.1               1.9\n",
              "15                 6.2               2.8                4.8               1.8\n",
              "16                 6.7               3.3                5.7               2.5\n",
              "17                 7.9               3.8                6.4               2.0\n",
              "18                 4.6               3.6                1.0               0.2\n",
              "19                 7.4               2.8                6.1               1.9\n",
              "20                 4.6               3.2                1.4               0.2\n",
              "21                 7.7               3.0                6.1               2.3\n",
              "22                 4.6               3.1                1.5               0.2\n",
              "23                 5.0               3.5                1.6               0.6\n",
              "24                 6.3               2.7                4.9               1.8\n",
              "25                 5.2               3.4                1.4               0.2\n",
              "26                 4.4               3.0                1.3               0.2\n",
              "27                 7.7               2.6                6.9               2.3\n",
              "28                 5.5               2.4                3.7               1.0\n",
              "29                 4.7               3.2                1.6               0.2\n",
              "..                 ...               ...                ...               ...\n",
              "82                 5.0               3.2                1.2               0.2\n",
              "83                 5.8               2.8                5.1               2.4\n",
              "84                 6.1               2.8                4.0               1.3\n",
              "85                 4.9               3.1                1.5               0.2\n",
              "86                 6.4               2.8                5.6               2.2\n",
              "87                 5.8               2.6                4.0               1.2\n",
              "88                 6.9               3.2                5.7               2.3\n",
              "89                 4.9               2.4                3.3               1.0\n",
              "90                 6.7               3.0                5.2               2.3\n",
              "91                 5.1               3.8                1.9               0.4\n",
              "92                 4.9               3.1                1.5               0.1\n",
              "93                 5.0               3.5                1.3               0.3\n",
              "94                 4.8               3.0                1.4               0.1\n",
              "95                 6.3               3.4                5.6               2.4\n",
              "96                 4.6               3.4                1.4               0.3\n",
              "97                 4.7               3.2                1.3               0.2\n",
              "98                 5.2               4.1                1.5               0.1\n",
              "99                 6.4               2.9                4.3               1.3\n",
              "100                6.8               3.2                5.9               2.3\n",
              "101                6.6               3.0                4.4               1.4\n",
              "102                5.2               3.5                1.5               0.2\n",
              "103                5.1               3.4                1.5               0.2\n",
              "104                6.3               2.5                5.0               1.9\n",
              "105                5.5               2.6                4.4               1.2\n",
              "106                5.7               2.6                3.5               1.0\n",
              "107                7.7               2.8                6.7               2.0\n",
              "108                6.4               3.2                4.5               1.5\n",
              "109                6.0               2.2                5.0               1.5\n",
              "110                5.0               2.0                3.5               1.0\n",
              "111                5.4               3.4                1.7               0.2\n",
              "\n",
              "[112 rows x 4 columns]"
            ]
          },
          "metadata": {
            "tags": []
          },
          "execution_count": 21
        }
      ]
    },
    {
      "cell_type": "markdown",
      "metadata": {
        "id": "XAykdg5XfNh5",
        "colab_type": "text"
      },
      "source": [
        "<h2>KNN classifier</h2>"
      ]
    },
    {
      "cell_type": "markdown",
      "metadata": {
        "id": "HbiWUQeCfNh6",
        "colab_type": "text"
      },
      "source": [
        "<div class=\"alert alert-info\">\n",
        "\n",
        "The first classification algorithm we would be treating is the KNN classifier which stands for the K nearest neighbors. It is called KNN because the most import paramaeter in kNN is k( which is the number of neighbours) and it is the only parameter we tune in KNN classifier</div>"
      ]
    },
    {
      "cell_type": "code",
      "metadata": {
        "id": "6l6X3sROfNiF",
        "colab_type": "code",
        "colab": {}
      },
      "source": [
        "from sklearn.neighbors import KNeighborsClassifier\n",
        "knn = KNeighborsClassifier(n_neighbors=1)"
      ],
      "execution_count": null,
      "outputs": []
    },
    {
      "cell_type": "code",
      "metadata": {
        "id": "82GaC0ZIfNib",
        "colab_type": "code",
        "colab": {},
        "outputId": "203c1ea9-9104-4119-bff6-b5d5ffefa1a1"
      },
      "source": [
        "knn.fit(X_train, y_train)"
      ],
      "execution_count": null,
      "outputs": [
        {
          "output_type": "execute_result",
          "data": {
            "text/plain": [
              "KNeighborsClassifier(algorithm='auto', leaf_size=30, metric='minkowski',\n",
              "           metric_params=None, n_jobs=None, n_neighbors=1, p=2,\n",
              "           weights='uniform')"
            ]
          },
          "metadata": {
            "tags": []
          },
          "execution_count": 24
        }
      ]
    },
    {
      "cell_type": "code",
      "metadata": {
        "id": "Stl9gkiyfNiq",
        "colab_type": "code",
        "colab": {},
        "outputId": "13bd5563-fa9e-44b5-a80b-810506f8931a"
      },
      "source": [
        "#making predictions\n",
        "\n",
        "X_new = np.array([[7,3,2,0.5]])\n",
        "prediction = knn.predict(X_new)\n",
        "print(prediction)\n",
        "print(iris_data[\"target_names\"][prediction])"
      ],
      "execution_count": null,
      "outputs": [
        {
          "output_type": "stream",
          "text": [
            "[0]\n",
            "['setosa']\n"
          ],
          "name": "stdout"
        }
      ]
    },
    {
      "cell_type": "code",
      "metadata": {
        "id": "w_55OxXKfNi3",
        "colab_type": "code",
        "colab": {},
        "outputId": "8deb4cf5-5ab2-4733-aeb6-a0d4d9fc245b"
      },
      "source": [
        "#evaluating the model using the test data set\n",
        "\n",
        "y_prediction = knn.predict(X_test)\n",
        "print(y_prediction)"
      ],
      "execution_count": null,
      "outputs": [
        {
          "output_type": "stream",
          "text": [
            "[1 1 1 0 1 1 0 0 0 2 2 2 0 1 2 0 1 2 2 2 0 1 1 2 1 2 0 0 1 2 0 0 2 0 1 0 1\n",
            " 0]\n"
          ],
          "name": "stdout"
        }
      ]
    },
    {
      "cell_type": "code",
      "metadata": {
        "id": "yNx5L_JlfNjB",
        "colab_type": "code",
        "colab": {},
        "outputId": "bded4ab9-35dc-4edc-dc70-321f8a25324d"
      },
      "source": [
        "#Method 1\n",
        "\n",
        "print(np.mean(y_prediction == y_test))"
      ],
      "execution_count": null,
      "outputs": [
        {
          "output_type": "stream",
          "text": [
            "0.9210526315789473\n"
          ],
          "name": "stdout"
        }
      ]
    },
    {
      "cell_type": "code",
      "metadata": {
        "id": "Wg-NZxWHfNjR",
        "colab_type": "code",
        "colab": {},
        "outputId": "052123ac-c2c6-4522-ff86-86cccbb3f868"
      },
      "source": [
        "#Method 2\n",
        "\n",
        "print(knn.score(X_test, y_test))"
      ],
      "execution_count": null,
      "outputs": [
        {
          "output_type": "stream",
          "text": [
            "0.9210526315789473\n"
          ],
          "name": "stdout"
        }
      ]
    },
    {
      "cell_type": "code",
      "metadata": {
        "id": "aZt9SIkwfNjd",
        "colab_type": "code",
        "colab": {}
      },
      "source": [
        "<div class=\"alert alert-info\">\n",
        "We can see from the score above that the KNN classifier has a 92.1% accuracy on our dataset.</div>"
      ],
      "execution_count": null,
      "outputs": []
    },
    {
      "cell_type": "markdown",
      "metadata": {
        "id": "P2pHoK3cfNjy",
        "colab_type": "text"
      },
      "source": [
        "<h3>KNN from scratch</h3>"
      ]
    },
    {
      "cell_type": "code",
      "metadata": {
        "id": "RGe0BWTxfNj5",
        "colab_type": "code",
        "colab": {}
      },
      "source": [
        "#We use ecliudean distance to calculate knn\n",
        "\n",
        "from math import sqrt\n",
        "import numpy as np\n",
        "import warnings\n",
        "import matplotlib.pyplot as plt\n",
        "from matplotlib import style\n",
        "from collections import Counter\n",
        "import pandas as pd\n",
        "import random\n",
        "style.use('fivethirtyeight')\n",
        "plot1 = [1,3]\n",
        "plot2 = [2,5]"
      ],
      "execution_count": null,
      "outputs": []
    },
    {
      "cell_type": "code",
      "metadata": {
        "id": "1J6srcDxfNkm",
        "colab_type": "code",
        "colab": {},
        "outputId": "38866f53-9ac8-4f3d-bd42-1d53b2af5345"
      },
      "source": [
        "euclidean_distance = sqrt((plot1[0]-plot2[0])**2+(plot1[1]-plot2[1])**2)\n",
        "print(euclidean_distance)\n",
        "\n",
        "\n",
        "#euclidean_distance = np.sqrt(np.sum((np.array(features)-np.array(predict))**2))"
      ],
      "execution_count": null,
      "outputs": [
        {
          "output_type": "stream",
          "text": [
            "2.23606797749979\n"
          ],
          "name": "stdout"
        }
      ]
    },
    {
      "cell_type": "code",
      "metadata": {
        "id": "yDQ5H_kkfNk1",
        "colab_type": "code",
        "colab": {},
        "outputId": "8824ae54-cc2c-40bb-c727-ae78f995c559"
      },
      "source": [
        "dataset= {'k': [[1,2],[2,3],[3,1]], 'r': [[6,5],[7,7],[8,6]]}\n",
        "\n",
        "new_features = [5,7]\n",
        "\n",
        "[[plt.scatter(ii[0],ii[1],s=100, color = i) for ii in dataset[i]] for i in dataset]\n",
        "plt.scatter(new_features[0], new_features[1], s= 50)\n",
        "plt.show()"
      ],
      "execution_count": null,
      "outputs": [
        {
          "output_type": "display_data",
          "data": {
            "image/png": "[encoded data removed]",
            "text/plain": [
              "<Figure size 432x288 with 1 Axes>"
            ]
          },
          "metadata": {
            "tags": []
          }
        }
      ]
    },
    {
      "cell_type": "code",
      "metadata": {
        "id": "h-R6APB6fNlE",
        "colab_type": "code",
        "colab": {},
        "outputId": "74907910-c7f8-4e41-f5bf-a141d0af924f"
      },
      "source": [
        "def k_nearest_neighbors(data, predict, k=3):\n",
        "    if len(data) >= k:\n",
        "        warnings.warn(\"K is set to a value less than total voting groups!\")\n",
        "    distances = []\n",
        "    for group in data:\n",
        "        for features in data[group]:\n",
        "            euclidean_distance = np.linalg.norm(np.array(features)-np.array(predict))\n",
        "            distances.append([euclidean_distance, group])\n",
        "    votes =  [ i[1] for i in sorted(distances)[:k]]\n",
        "    vote_result = Counter(votes).most_common(1)[0][0]\n",
        "    return vote_result\n",
        "\n",
        "result = k_nearest_neighbors(dataset, new_features, k=3)\n",
        "print(result)"
      ],
      "execution_count": null,
      "outputs": [
        {
          "output_type": "stream",
          "text": [
            "r\n"
          ],
          "name": "stdout"
        }
      ]
    },
    {
      "cell_type": "code",
      "metadata": {
        "id": "RB2-tXPafNlS",
        "colab_type": "code",
        "colab": {},
        "outputId": "cb153cf9-92bb-4c44-cecf-b40d552e8e09"
      },
      "source": [
        "[[plt.scatter(ii[0],ii[1],s=100, color = i) for ii in dataset[i]] for i in dataset]\n",
        "plt.scatter(new_features[0], new_features[1], s= 50, color = result)\n",
        "plt.show()"
      ],
      "execution_count": null,
      "outputs": [
        {
          "output_type": "display_data",
          "data": {
            "image/png": "[encoded data removed]",
            "text/plain": [
              "<Figure size 432x288 with 1 Axes>"
            ]
          },
          "metadata": {
            "tags": []
          }
        }
      ]
    },
    {
      "cell_type": "markdown",
      "metadata": {
        "id": "VJeiWXuQfNlj",
        "colab_type": "text"
      },
      "source": [
        "<h3>Decision boundary</h3>"
      ]
    },
    {
      "cell_type": "code",
      "metadata": {
        "id": "E7obMXw4fNlk",
        "colab_type": "code",
        "colab": {}
      },
      "source": [
        "X = iris_data[\"data\"]\n",
        "y = iris_data[\"target\"]\n",
        "X, y = make_blobs(centers=2, random_state=2)"
      ],
      "execution_count": null,
      "outputs": []
    },
    {
      "cell_type": "code",
      "metadata": {
        "id": "K57Lq-TtfNl6",
        "colab_type": "code",
        "colab": {},
        "outputId": "777fb2ff-71ba-4dd1-f2ce-0584ef677d04"
      },
      "source": [
        "fig, axes = plt.subplots(1,3, figsize = (10,3))\n",
        "for n_neighbors, ax in zip([1,3,9], axes):\n",
        "    clf = neighbors.KNeighborsClassifier(n_neighbors = n_neighbors).fit(X,y)\n",
        "    mglearn.plots.plot_2d_separator(clf, X, fill=True, eps = 0.5, ax =ax, alpha = .5)\n",
        "    mglearn.discrete_scatter(X[:,0], X[:, 1], y, ax = ax)\n",
        "    ax.set_title(\"{} neighbor(s)\".format(n_neighbors))\n",
        "    ax.set_xlabel(\"feature 0\")\n",
        "    ax.set_ylabel(\"feature 1\")\n",
        "axes[0].legend(loc=3)"
      ],
      "execution_count": null,
      "outputs": [
        {
          "output_type": "execute_result",
          "data": {
            "text/plain": [
              "<matplotlib.legend.Legend at 0x2385ec41f28>"
            ]
          },
          "metadata": {
            "tags": []
          },
          "execution_count": 31
        },
        {
          "output_type": "display_data",
          "data": {
            "image/png": "[encoded data removed]",
            "text/plain": [
              "<Figure size 720x216 with 3 Axes>"
            ]
          },
          "metadata": {
            "tags": []
          }
        }
      ]
    },
    {
      "cell_type": "markdown",
      "metadata": {
        "id": "-1e7Hj0HfNmJ",
        "colab_type": "text"
      },
      "source": [
        "<h3>Logistic regression</h3>"
      ]
    },
    {
      "cell_type": "markdown",
      "metadata": {
        "id": "XfVm8AOsfNmM",
        "colab_type": "text"
      },
      "source": [
        "<div class=\"alert alert-info\">\n",
        "Logistic regression despite its name is a classification algorithm. The parameter we tune here is the 'c'. Higher value of c correspond to less regularization. It tries to ensure each data point is classified correctly. Using low value of C will cause the algorithms to try to adjust to the majority of data points. </div>"
      ]
    },
    {
      "cell_type": "code",
      "metadata": {
        "id": "pVjtjzdEfNmP",
        "colab_type": "code",
        "colab": {},
        "outputId": "d7585471-2a30-4210-a46c-79d73d1a1ce3"
      },
      "source": [
        "#Using the default value of c which is 1\n",
        "\n",
        "logreg = LogisticRegression().fit(X_train, y_train)\n",
        "training_set_score = logreg.score(X_train, y_train)\n",
        "test_set_score = logreg.score(X_test, y_test)\n",
        "\n",
        "print(training_set_score)\n",
        "print(test_set_score)"
      ],
      "execution_count": null,
      "outputs": [
        {
          "output_type": "stream",
          "text": [
            "C:\\Users\\Abisola Fikayomi\\Anaconda3\\lib\\site-packages\\sklearn\\linear_model\\logistic.py:433: FutureWarning: Default solver will be changed to 'lbfgs' in 0.22. Specify a solver to silence this warning.\n",
            "  FutureWarning)\n",
            "C:\\Users\\Abisola Fikayomi\\Anaconda3\\lib\\site-packages\\sklearn\\linear_model\\logistic.py:460: FutureWarning: Default multi_class will be changed to 'auto' in 0.22. Specify the multi_class option to silence this warning.\n",
            "  \"this warning.\", FutureWarning)\n"
          ],
          "name": "stderr"
        },
        {
          "output_type": "stream",
          "text": [
            "0.9732142857142857\n",
            "0.9210526315789473\n"
          ],
          "name": "stdout"
        }
      ]
    },
    {
      "cell_type": "code",
      "metadata": {
        "id": "rnAPkWDafNmc",
        "colab_type": "code",
        "colab": {},
        "outputId": "248350a3-41f1-4453-ab90-8b7e385b730a"
      },
      "source": [
        "#Using c = 100\n",
        "\n",
        "logreg100 = LogisticRegression(C=100).fit(X_train, y_train)\n",
        "training_set_score = logreg100.score(X_train, y_train)\n",
        "test_set_score = logreg100.score(X_test, y_test)\n",
        "\n",
        "print(training_set_score)\n",
        "print(test_set_score)"
      ],
      "execution_count": null,
      "outputs": [
        {
          "output_type": "stream",
          "text": [
            "0.9732142857142857\n",
            "1.0\n"
          ],
          "name": "stdout"
        },
        {
          "output_type": "stream",
          "text": [
            "C:\\Users\\Abisola Fikayomi\\Anaconda3\\lib\\site-packages\\sklearn\\linear_model\\logistic.py:433: FutureWarning: Default solver will be changed to 'lbfgs' in 0.22. Specify a solver to silence this warning.\n",
            "  FutureWarning)\n",
            "C:\\Users\\Abisola Fikayomi\\Anaconda3\\lib\\site-packages\\sklearn\\linear_model\\logistic.py:460: FutureWarning: Default multi_class will be changed to 'auto' in 0.22. Specify the multi_class option to silence this warning.\n",
            "  \"this warning.\", FutureWarning)\n"
          ],
          "name": "stderr"
        }
      ]
    },
    {
      "cell_type": "code",
      "metadata": {
        "id": "f_r7jurvfNmv",
        "colab_type": "code",
        "colab": {},
        "outputId": "8b7af2e5-7640-4a44-833d-5280db71337b"
      },
      "source": [
        "#Using c = 0.01\n",
        "\n",
        "logreg001 = LogisticRegression(C=0.01).fit(X_train, y_train)\n",
        "training_set_score = logreg001.score(X_train, y_train)\n",
        "test_set_score = logreg001.score(X_test, y_test)\n",
        "\n",
        "print(training_set_score)\n",
        "print(test_set_score)"
      ],
      "execution_count": null,
      "outputs": [
        {
          "output_type": "stream",
          "text": [
            "0.6607142857142857\n",
            "0.6842105263157895\n"
          ],
          "name": "stdout"
        },
        {
          "output_type": "stream",
          "text": [
            "C:\\Users\\Abisola Fikayomi\\Anaconda3\\lib\\site-packages\\sklearn\\linear_model\\logistic.py:433: FutureWarning: Default solver will be changed to 'lbfgs' in 0.22. Specify a solver to silence this warning.\n",
            "  FutureWarning)\n",
            "C:\\Users\\Abisola Fikayomi\\Anaconda3\\lib\\site-packages\\sklearn\\linear_model\\logistic.py:460: FutureWarning: Default multi_class will be changed to 'auto' in 0.22. Specify the multi_class option to silence this warning.\n",
            "  \"this warning.\", FutureWarning)\n"
          ],
          "name": "stderr"
        }
      ]
    },
    {
      "cell_type": "code",
      "metadata": {
        "collapsed": true,
        "id": "UIl7fxD4fNm6",
        "colab_type": "code",
        "colab": {},
        "outputId": "493426bc-c6f0-49c6-ac7f-1bbac5c50e9e"
      },
      "source": [
        "#By default, Log regression uses L2 regularization\n",
        "#However, if we want a more interpretable model, we can use the L1 regulirzation\n",
        "for C, marker in zip([0.001, 1, 100], [\"o\", \"^\", \"v\"]):\n",
        "    logreg_l1 = LogisticRegression(C=C, penalty = \"l1\").fit(X_train, y_train)\n",
        "    training_set_score = logreg_l1.score(X_train, y_train)\n",
        "    test_set_score = logreg_l1.score(X_test, y_test)\n",
        "\n",
        "    print(C, ':' ,training_set_score)\n",
        "    print(C, ':' ,test_set_score)\n",
        "   "
      ],
      "execution_count": null,
      "outputs": [
        {
          "output_type": "stream",
          "text": [
            "0.001 : 0.32142857142857145\n",
            "0.001 : 0.3684210526315789\n",
            "1 : 0.9732142857142857\n",
            "1 : 0.9210526315789473\n",
            "100 : 0.9732142857142857\n",
            "100 : 1.0\n"
          ],
          "name": "stdout"
        },
        {
          "output_type": "stream",
          "text": [
            "C:\\Users\\Abisola Fikayomi\\Anaconda3\\lib\\site-packages\\sklearn\\linear_model\\logistic.py:433: FutureWarning: Default solver will be changed to 'lbfgs' in 0.22. Specify a solver to silence this warning.\n",
            "  FutureWarning)\n",
            "C:\\Users\\Abisola Fikayomi\\Anaconda3\\lib\\site-packages\\sklearn\\linear_model\\logistic.py:460: FutureWarning: Default multi_class will be changed to 'auto' in 0.22. Specify the multi_class option to silence this warning.\n",
            "  \"this warning.\", FutureWarning)\n",
            "C:\\Users\\Abisola Fikayomi\\Anaconda3\\lib\\site-packages\\sklearn\\linear_model\\logistic.py:433: FutureWarning: Default solver will be changed to 'lbfgs' in 0.22. Specify a solver to silence this warning.\n",
            "  FutureWarning)\n",
            "C:\\Users\\Abisola Fikayomi\\Anaconda3\\lib\\site-packages\\sklearn\\linear_model\\logistic.py:460: FutureWarning: Default multi_class will be changed to 'auto' in 0.22. Specify the multi_class option to silence this warning.\n",
            "  \"this warning.\", FutureWarning)\n",
            "C:\\Users\\Abisola Fikayomi\\Anaconda3\\lib\\site-packages\\sklearn\\linear_model\\logistic.py:433: FutureWarning: Default solver will be changed to 'lbfgs' in 0.22. Specify a solver to silence this warning.\n",
            "  FutureWarning)\n",
            "C:\\Users\\Abisola Fikayomi\\Anaconda3\\lib\\site-packages\\sklearn\\linear_model\\logistic.py:460: FutureWarning: Default multi_class will be changed to 'auto' in 0.22. Specify the multi_class option to silence this warning.\n",
            "  \"this warning.\", FutureWarning)\n"
          ],
          "name": "stderr"
        }
      ]
    },
    {
      "cell_type": "markdown",
      "metadata": {
        "id": "OK5OJYZEfNnb",
        "colab_type": "text"
      },
      "source": [
        "<h3>Linear SVM</h3>"
      ]
    },
    {
      "cell_type": "markdown",
      "metadata": {
        "id": "gSHta3pofNne",
        "colab_type": "text"
      },
      "source": [
        "<div class=\"alert alert-info\">\n",
        "\n",
        "SVMs are extension of the linear SVC that allows for more complex models. </div>"
      ]
    },
    {
      "cell_type": "code",
      "metadata": {
        "id": "TktPbCU1fNnk",
        "colab_type": "code",
        "colab": {},
        "outputId": "abec3868-cf53-4863-ce61-0b4d2967cce8"
      },
      "source": [
        "from sklearn.svm import SVC\n",
        "\n",
        "X,y = mglearn.tools.make_handcrafted_dataset()\n",
        "svm = SVC(kernel = 'rbf', C = 10, gamma = 0.1).fit(X,y)\n",
        "mglearn.plots.plot_2d_separator(svm, X, eps = .5)\n",
        "mglearn.discrete_scatter(X[:, 0], X[:,1],y)\n",
        "\n",
        "sv = svm.support_vectors_\n",
        "sv_labels = svm.dual_coef_.ravel() > 0\n",
        "mglearn.discrete_scatter(sv[:,0], sv[:,1], sv_labels, s =15, markeredgewidth = 3)\n",
        "plt.xlabel(\"Feature 0\")\n",
        "plt.xlabel(\"Feature 1\")"
      ],
      "execution_count": null,
      "outputs": [
        {
          "output_type": "execute_result",
          "data": {
            "text/plain": [
              "Text(0.5, 0, 'Feature 1')"
            ]
          },
          "metadata": {
            "tags": []
          },
          "execution_count": 54
        },
        {
          "output_type": "display_data",
          "data": {
            "image/png": "[encoded data removed]",
            "text/plain": [
              "<Figure size 432x288 with 1 Axes>"
            ]
          },
          "metadata": {
            "tags": []
          }
        }
      ]
    },
    {
      "cell_type": "code",
      "metadata": {
        "id": "EoA66L-XfNn2",
        "colab_type": "code",
        "colab": {},
        "outputId": "a22403f0-2da1-4625-b448-df4d7c39331c"
      },
      "source": [
        "fig, axes = plt.subplots(3,3, figsize = (15,10))\n",
        "for ax, C in zip(axes, [-1,0,3]):\n",
        "    for a, gamma in zip(ax, range(-1,2)):\n",
        "        mglearn.plots.plot_svm(log_C= C, log_gamma = gamma, ax =a)\n",
        "axes[0,0].legend([\"class 0\", \"class 1\", \"sv class 0\", \"sv class 1\"], ncol = 4, loc = (.9,1.2))"
      ],
      "execution_count": null,
      "outputs": [
        {
          "output_type": "execute_result",
          "data": {
            "text/plain": [
              "<matplotlib.legend.Legend at 0x23860befe48>"
            ]
          },
          "metadata": {
            "tags": []
          },
          "execution_count": 55
        },
        {
          "output_type": "display_data",
          "data": {
            "image/png": "[encoded data removed]",
            "text/plain": [
              "<Figure size 1080x720 with 9 Axes>"
            ]
          },
          "metadata": {
            "tags": []
          }
        }
      ]
    },
    {
      "cell_type": "code",
      "metadata": {
        "id": "vOUT46OafNoQ",
        "colab_type": "code",
        "colab": {},
        "outputId": "b8e9ccb5-1881-4fbb-d3bc-501d30ec0280"
      },
      "source": [
        "#Applying to iris data\n",
        "\n",
        "X_train, X_test, y_train, y_test = train_test_split(iris_data.data, iris_data.target, random_state = 0)\n",
        "\n",
        "svc = SVC()\n",
        "svc.fit(X_train, y_train)\n",
        "\n",
        "\n",
        "\n",
        "training_set_score= svc.score(X_train,y_train)\n",
        "test_set_score= svc.score(X_test,y_test)\n",
        "print(training_set_score)\n",
        "print(test_set_score)"
      ],
      "execution_count": null,
      "outputs": [
        {
          "output_type": "stream",
          "text": [
            "0.9821428571428571\n",
            "0.9736842105263158\n"
          ],
          "name": "stdout"
        },
        {
          "output_type": "stream",
          "text": [
            "C:\\Users\\Abisola Fikayomi\\Anaconda3\\lib\\site-packages\\sklearn\\svm\\base.py:196: FutureWarning: The default value of gamma will change from 'auto' to 'scale' in version 0.22 to account better for unscaled features. Set gamma explicitly to 'auto' or 'scale' to avoid this warning.\n",
            "  \"avoid this warning.\", FutureWarning)\n"
          ],
          "name": "stderr"
        }
      ]
    },
    {
      "cell_type": "code",
      "metadata": {
        "id": "mTBjYJKRfNok",
        "colab_type": "code",
        "colab": {},
        "outputId": "aac004d9-6075-4d8f-844d-941e1b469d8d"
      },
      "source": [
        "#rescaling features so that they are between 0 1nd 1\n",
        "\n",
        "min_on_training = X_train.min(axis = 0)   #compute minimum value per feature on the training set\n",
        "range_on_training = (X_train - min_on_training).max(axis=0)  #compute the range of each feature(max-min) on the training set\n",
        "\n",
        "\n",
        "#subtract the min, and divide by range\n",
        "#afterwards, min = 0 and max =1 for each feature\n",
        "X_train_scaled = (X_train - min_on_training)/range_on_training\n",
        "\n",
        "print(\"Minimum: {}\".format(X_train_scaled.min(axis = 0)))\n",
        "print(\"Maximum: {}\".format(X_train_scaled.max(axis = 0)))"
      ],
      "execution_count": null,
      "outputs": [
        {
          "output_type": "stream",
          "text": [
            "Minimum: [0. 0. 0. 0.]\n",
            "Maximum: [1. 1. 1. 1.]\n"
          ],
          "name": "stdout"
        }
      ]
    },
    {
      "cell_type": "code",
      "metadata": {
        "id": "FHlfEI9KfNpL",
        "colab_type": "code",
        "colab": {}
      },
      "source": [
        "#Do the same for the test set\n",
        "\n",
        "X_test_scaled = (X_test - min_on_training)/range_on_training"
      ],
      "execution_count": null,
      "outputs": []
    },
    {
      "cell_type": "code",
      "metadata": {
        "id": "BXwZCpTLfNpd",
        "colab_type": "code",
        "colab": {},
        "outputId": "b51f4f38-2f51-42fb-fae5-7b040aa354c0"
      },
      "source": [
        "svc = SVC()\n",
        "svc.fit(X_train_scaled, y_train)\n",
        "\n",
        "\n",
        "\n",
        "training_set_score= svc.score(X_train_scaled,y_train)\n",
        "test_set_score= svc.score(X_test_scaled,y_test)\n",
        "print(training_set_score)\n",
        "print(test_set_score)"
      ],
      "execution_count": null,
      "outputs": [
        {
          "output_type": "stream",
          "text": [
            "0.9464285714285714\n",
            "0.9736842105263158\n"
          ],
          "name": "stdout"
        },
        {
          "output_type": "stream",
          "text": [
            "C:\\Users\\Abisola Fikayomi\\Anaconda3\\lib\\site-packages\\sklearn\\svm\\base.py:196: FutureWarning: The default value of gamma will change from 'auto' to 'scale' in version 0.22 to account better for unscaled features. Set gamma explicitly to 'auto' or 'scale' to avoid this warning.\n",
            "  \"avoid this warning.\", FutureWarning)\n"
          ],
          "name": "stderr"
        }
      ]
    },
    {
      "cell_type": "code",
      "metadata": {
        "id": "2prte6YHfNpr",
        "colab_type": "code",
        "colab": {}
      },
      "source": [
        "data_dict = {-1: np.array([[1,7], [2,8], [3,8]]), 1: np.array([[5,1], [6,-1], [7,3]])}\n",
        "\n",
        "class Support_Vector_Machine:\n",
        "    def __init__(self, visualization = True):\n",
        "        self.visualization = visualization\n",
        "        self.colors = {1: \"r\", -1: \"b\"}\n",
        "        if self.visualization:\n",
        "            self.fig = plt.figure()\n",
        "            self.ax = self.fig.add_subplot(1,1,1)\n",
        "            \n",
        "            \n",
        "    def fit(self, data):\n",
        "        self.data = data\n",
        "        opt_dict = {}\n",
        "        transforms = [[1,1], [-1,1], [-1,-1],[1,-1]]\n",
        "        \n",
        "        all_data = []\n",
        "        for yi in self.data:\n",
        "            for featureset in self.data[yi]:\n",
        "                for feature in featureset:\n",
        "                    all_data.append(feature)\n",
        "                    \n",
        "        self.max_feature_value = max(all_data)\n",
        "        self.min_feature_value = min(all_data)\n",
        "        all_data = None\n",
        "        \n",
        "        step_sizes = [self.max_feature_value * 0.1, self.max_feature_value * 0.01,self.max_feature_value * 0.001]\n",
        "        #extremely expensive\n",
        "        b_range_multiple = 5\n",
        "        #WE don't  need to take as small of step\n",
        "        #With b as we do with w\n",
        "        b_multiple = 5\n",
        "        latest_optimum = self.max_feature_value *10\n",
        "        \n",
        "        for step in step_sizes:\n",
        "            w = np.array([latest_optimum, latest_optimum])\n",
        "            #We can do this because of convex\n",
        "            optimized = False\n",
        "            while not optimized:\n",
        "                for b in np.arange(-1*(self.max_feature_value*b_range_multiple)\n",
        "                                   , self.max_feature_value*b_range_multiple, step*b_multiple):\n",
        "                    for transformation in transforms:\n",
        "                        w_t = w*transformation\n",
        "                        found_option = True\n",
        "                        #WEakest link in the SVM fundamentality\n",
        "                        #SMO attempts to fix this a bit\n",
        "                        #yi(xi.w +b) >\n",
        "                        for i in self.data:\n",
        "                            for xi in self.data[i]:\n",
        "                                yi = i\n",
        "                                if not yi*(np.dot(w_t, xi) +b) >= 1:\n",
        "                                    found_option = False\n",
        "                                    break\n",
        "                                    \n",
        "                        if found_option:\n",
        "                            opt_dict[np.linalg.norm(w_t)] = [w_t, b]\n",
        "                \n",
        "                if w[0] < 0:\n",
        "                    optimized = True\n",
        "                    print(\"Optimized a step.\")\n",
        "                else:\n",
        "                    w = w-step\n",
        "            norms = sorted([n for n in opt_dict])\n",
        "            opt_chioce = opt_dict[norms[0]]\n",
        "            self.w = opt_chioce[0]\n",
        "            self.b = opt_chioce[1]\n",
        "            latest_optimum = opt_chioce[0][0] +step*2\n",
        "    \n",
        "    \n",
        "    def predict(self, features):\n",
        "        # sin(x.w +b)\n",
        "        classification = np.sign(np.dot(np.array(features), self.w) + self.b)\n",
        "        if classification !=0 and self.visualization:\n",
        "            self.ax.scatter(features[0], features[1], s=200, marker = \"*\", c = self.colors[classification])\n",
        "        \n",
        "        return classification\n",
        "    \n",
        "    def visualize(self):\n",
        "        [[self.ax.scatter(x[0],x[1], s=100, color = self.colors[i]) for x in data_dict[i]] for i in data_dict]\n",
        "        def hyperplane(x,w,b,v):\n",
        "            return (-w[0]*x-b+v)/w[1]\n",
        "        \n",
        "        datarange = (self.min_feature_value*0.9, self.max_feature_value*1.1)\n",
        "        hyp_x_min = datarange[0]\n",
        "        hyp_x_max = datarange[1]\n",
        "        \n",
        "        psv1 = hyperplane( hyp_x_min, self.w, self.b, 1)\n",
        "        psv2 = hyperplane( hyp_x_max, self.w, self.b, 1)\n",
        "        self.ax.plot([hyp_x_min, hyp_x_max], [psv1, psv2], \"k\")\n",
        "        \n",
        "        \n",
        "                \n",
        "        nsv1 = hyperplane( hyp_x_min, self.w, self.b, -1)\n",
        "        nsv2 = hyperplane( hyp_x_max, self.w, self.b, -1)\n",
        "        self.ax.plot([hyp_x_min, hyp_x_max], [nsv1, nsv2], \"k\")\n",
        "        \n",
        "                \n",
        "        db1 = hyperplane( hyp_x_min, self.w, self.b, 0)\n",
        "        db2 = hyperplane( hyp_x_max, self.w, self.b, 0)\n",
        "        self.ax.plot([hyp_x_min, hyp_x_max], [db1, db2], \"y--\")\n",
        "        \n",
        "        plt.show()"
      ],
      "execution_count": null,
      "outputs": []
    },
    {
      "cell_type": "code",
      "metadata": {
        "id": "E2Un7c0nfNqQ",
        "colab_type": "code",
        "colab": {},
        "outputId": "799ff751-1293-4e50-de94-b836ad1015db"
      },
      "source": [
        "svm = Support_Vector_Machine()\n",
        "svm.fit(data_dict)\n",
        "svm.visualize()"
      ],
      "execution_count": null,
      "outputs": [
        {
          "output_type": "stream",
          "text": [
            "Optimized a step.\n",
            "Optimized a step.\n",
            "Optimized a step.\n"
          ],
          "name": "stdout"
        },
        {
          "output_type": "display_data",
          "data": {
            "image/png": "[encoded data removed]",
            "text/plain": [
              "<Figure size 432x288 with 1 Axes>"
            ]
          },
          "metadata": {
            "tags": []
          }
        }
      ]
    },
    {
      "cell_type": "code",
      "metadata": {
        "id": "S7W9FjQwfNql",
        "colab_type": "code",
        "colab": {},
        "outputId": "f5593d90-bccd-4263-de99-05b02be6471b"
      },
      "source": [
        "svm = Support_Vector_Machine()\n",
        "svm.fit(data_dict)\n",
        "predict_us = [[0,10], [1,3], [3,4], [3,5], [5,5], [5,6], [6,-5], [5,8]]\n",
        "for p in predict_us:\n",
        "    svm.predict(p)\n",
        "svm.visualize()"
      ],
      "execution_count": null,
      "outputs": [
        {
          "output_type": "stream",
          "text": [
            "Optimized a step.\n",
            "Optimized a step.\n",
            "Optimized a step.\n"
          ],
          "name": "stdout"
        },
        {
          "output_type": "display_data",
          "data": {
            "image/png": "[encoded data removed]",
            "text/plain": [
              "<Figure size 432x288 with 1 Axes>"
            ]
          },
          "metadata": {
            "tags": []
          }
        }
      ]
    },
    {
      "cell_type": "markdown",
      "metadata": {
        "id": "SOHGbGI_fNrK",
        "colab_type": "text"
      },
      "source": [
        "<h3>Logistic regression and SVC</h3>"
      ]
    },
    {
      "cell_type": "code",
      "metadata": {
        "id": "9ZgMM22VfNrL",
        "colab_type": "code",
        "colab": {},
        "outputId": "d25f2bdf-5b80-404b-82ef-8f3a98baca6d"
      },
      "source": [
        "fig, axes = plt.subplots(1,2, figsize = (10,3))\n",
        "for model, ax in zip([LinearSVC(), LogisticRegression()], axes):\n",
        "    clf = model.fit(X,y)\n",
        "    mglearn.plots.plot_2d_separator(clf, X, fill=False, eps = 0.5, ax =ax, alpha = .7)\n",
        "    mglearn.discrete_scatter(X[:,0], X[:, 1], y, ax = ax)\n",
        "    ax.set_title(\"{}\".format(clf.__class__.__name__))\n",
        "    ax.set_xlabel(\"feature 0\")\n",
        "    ax.set_ylabel(\"feature 1\")\n",
        "axes[0].legend()"
      ],
      "execution_count": null,
      "outputs": [
        {
          "output_type": "stream",
          "text": [
            "C:\\Users\\Abisola Fikayomi\\Anaconda3\\lib\\site-packages\\sklearn\\svm\\base.py:931: ConvergenceWarning: Liblinear failed to converge, increase the number of iterations.\n",
            "  \"the number of iterations.\", ConvergenceWarning)\n",
            "C:\\Users\\Abisola Fikayomi\\Anaconda3\\lib\\site-packages\\sklearn\\linear_model\\logistic.py:433: FutureWarning: Default solver will be changed to 'lbfgs' in 0.22. Specify a solver to silence this warning.\n",
            "  FutureWarning)\n"
          ],
          "name": "stderr"
        },
        {
          "output_type": "execute_result",
          "data": {
            "text/plain": [
              "<matplotlib.legend.Legend at 0x2386113fe80>"
            ]
          },
          "metadata": {
            "tags": []
          },
          "execution_count": 60
        },
        {
          "output_type": "display_data",
          "data": {
            "image/png": "[encoded data removed]",
            "text/plain": [
              "<Figure size 720x216 with 2 Axes>"
            ]
          },
          "metadata": {
            "tags": []
          }
        }
      ]
    },
    {
      "cell_type": "markdown",
      "metadata": {
        "id": "Q3h7cs-ufNrc",
        "colab_type": "text"
      },
      "source": [
        "<h3>Decision tree</h3>"
      ]
    },
    {
      "cell_type": "code",
      "metadata": {
        "id": "EiEpfcftfNrs",
        "colab_type": "code",
        "colab": {}
      },
      "source": [
        "from sklearn.tree import DecisionTreeClassifier"
      ],
      "execution_count": null,
      "outputs": []
    },
    {
      "cell_type": "code",
      "metadata": {
        "id": "VJoWqKCffNr-",
        "colab_type": "code",
        "colab": {},
        "outputId": "788eb63d-a5ed-48d3-91a2-6fb7961ea55f"
      },
      "source": [
        "tree = DecisionTreeClassifier(random_state = 0)\n",
        "tree.fit(X_train, y_train)\n"
      ],
      "execution_count": null,
      "outputs": [
        {
          "output_type": "execute_result",
          "data": {
            "text/plain": [
              "DecisionTreeClassifier(class_weight=None, criterion='gini', max_depth=None,\n",
              "            max_features=None, max_leaf_nodes=None,\n",
              "            min_impurity_decrease=0.0, min_impurity_split=None,\n",
              "            min_samples_leaf=1, min_samples_split=2,\n",
              "            min_weight_fraction_leaf=0.0, presort=False, random_state=0,\n",
              "            splitter='best')"
            ]
          },
          "metadata": {
            "tags": []
          },
          "execution_count": 63
        }
      ]
    },
    {
      "cell_type": "code",
      "metadata": {
        "id": "jhh6Qm_CfNsF",
        "colab_type": "code",
        "colab": {},
        "outputId": "4951748d-e67b-4301-b169-8a71ee5b782b"
      },
      "source": [
        "training_set_score= tree.score(X_train,y_train)\n",
        "test_set_score= tree.score(X_test,y_test)\n",
        "print(training_set_score)\n",
        "print(test_set_score)"
      ],
      "execution_count": null,
      "outputs": [
        {
          "output_type": "stream",
          "text": [
            "1.0\n",
            "0.9736842105263158\n"
          ],
          "name": "stdout"
        }
      ]
    },
    {
      "cell_type": "code",
      "metadata": {
        "id": "S-UWIK5HfNse",
        "colab_type": "code",
        "colab": {},
        "outputId": "c01bba30-8870-4824-e9a0-604b14aa71d0"
      },
      "source": [
        "#Feature importance\n",
        "#This rates how important a feature is to the decision a tree makes\n",
        "\n",
        "def plot_feature_importances_iris(model):\n",
        "    n_features = iris_data.data.shape[1]\n",
        "    plt.barh(range(n_features), model.feature_importances_, align = \"center\")\n",
        "    plt.yticks(np.arange(n_features), iris_data.feature_names)\n",
        "    plt.xlabel(\"Feature importance\")\n",
        "    plt.ylabel(\"Feature\")\n",
        "\n",
        "plot_feature_importances_iris(tree)"
      ],
      "execution_count": null,
      "outputs": [
        {
          "output_type": "display_data",
          "data": {
            "image/png": "[encoded data removed]",
            "text/plain": [
              "<Figure size 432x288 with 1 Axes>"
            ]
          },
          "metadata": {
            "tags": [],
            "needs_background": "light"
          }
        }
      ]
    },
    {
      "cell_type": "code",
      "metadata": {
        "id": "sfrm5dhnfNsq",
        "colab_type": "code",
        "colab": {},
        "outputId": "69925d37-6b6a-48ca-ebe9-7de1734bc291"
      },
      "source": [
        "#We want to limit the depth of the tree to decrease overfiting\n",
        "#This will make our model generalize to new data\n",
        "tree1 = DecisionTreeClassifier( max_depth = 2, random_state = 0)\n",
        "tree1.fit(X_train, y_train)\n",
        "training_set_score= tree1.score(X_train,y_train)\n",
        "test_set_score= tree1.score(X_test,y_test)\n",
        "print(training_set_score)\n",
        "print(test_set_score)"
      ],
      "execution_count": null,
      "outputs": [
        {
          "output_type": "stream",
          "text": [
            "0.9642857142857143\n",
            "0.8947368421052632\n"
          ],
          "name": "stdout"
        }
      ]
    },
    {
      "cell_type": "markdown",
      "metadata": {
        "id": "emxFdW9sfNtD",
        "colab_type": "text"
      },
      "source": [
        "<h2>Ensemble decision tree</h2>"
      ]
    },
    {
      "cell_type": "markdown",
      "metadata": {
        "id": "-MOPc3swfNtK",
        "colab_type": "text"
      },
      "source": [
        "<div class=\"alert alert-info\">\n",
        "Ensemble are methods that combine multiple machine learning models to create more power models. Random forest and gradient boosted decision trees are examples of this. Decision trees tend to overfit the training data. Ensemble decision trees (Random forest) is one way to address this problem. Random forest is simply a collection of decision trees where each tree is slightly different from others</div>"
      ]
    },
    {
      "cell_type": "markdown",
      "metadata": {
        "id": "nJQO5L-VfNtM",
        "colab_type": "text"
      },
      "source": [
        "<h3>Random Forest</h3>"
      ]
    },
    {
      "cell_type": "code",
      "metadata": {
        "id": "7Nm44cywfNtd",
        "colab_type": "code",
        "colab": {}
      },
      "source": [
        "from sklearn.ensemble import RandomForestClassifier\n",
        "from sklearn.datasets import make_moons"
      ],
      "execution_count": null,
      "outputs": []
    },
    {
      "cell_type": "code",
      "metadata": {
        "id": "gSmuLtMlfNuY",
        "colab_type": "code",
        "colab": {}
      },
      "source": [
        "X, y = make_moons(n_samples = 100, noise= 0.25, random_state = 3)\n",
        "X_train, X_test, y_train, y_test = train_test_split(X,y, stratify = y, random_state = 42)"
      ],
      "execution_count": null,
      "outputs": []
    },
    {
      "cell_type": "code",
      "metadata": {
        "id": "MQukRxkPfNuy",
        "colab_type": "code",
        "colab": {},
        "outputId": "c71ac585-0428-4357-cc11-1f911317596d"
      },
      "source": [
        "forest = RandomForestClassifier(n_estimators = 5, random_state = 2)\n",
        "forest.fit(X_train, y_train)"
      ],
      "execution_count": null,
      "outputs": [
        {
          "output_type": "execute_result",
          "data": {
            "text/plain": [
              "RandomForestClassifier(bootstrap=True, class_weight=None, criterion='gini',\n",
              "            max_depth=None, max_features='auto', max_leaf_nodes=None,\n",
              "            min_impurity_decrease=0.0, min_impurity_split=None,\n",
              "            min_samples_leaf=1, min_samples_split=2,\n",
              "            min_weight_fraction_leaf=0.0, n_estimators=5, n_jobs=None,\n",
              "            oob_score=False, random_state=2, verbose=0, warm_start=False)"
            ]
          },
          "metadata": {
            "tags": []
          },
          "execution_count": 72
        }
      ]
    },
    {
      "cell_type": "code",
      "metadata": {
        "id": "TXCTUbjafNvP",
        "colab_type": "code",
        "colab": {},
        "outputId": "6d8bc431-8c8e-4d91-faa5-93d01a85c6eb"
      },
      "source": [
        "fig, axes = plt.subplots(2,3, figsize = (20,10))\n",
        "for i, (ax, tree) in enumerate(zip(axes.ravel(), forest.estimators_)):\n",
        "    ax.set_title(\"Tree {}\".format(i))\n",
        "    mglearn.plots.plot_tree_partition(X_train,y_train, tree, ax =ax)\n",
        "    mglearn.plots.plot_2d_separator(forest, X_train, fill=True, ax =axes[-1,1], alpha = .4)\n",
        "    axes[-1,1].set_title(\"Random Forest\")\n",
        "    mglearn.discrete_scatter(X_train[:,0],X_train[:,1], y_train)"
      ],
      "execution_count": null,
      "outputs": [
        {
          "output_type": "display_data",
          "data": {
            "image/png": "[encoded data removed]",
            "text/plain": [
              "<Figure size 1440x720 with 6 Axes>"
            ]
          },
          "metadata": {
            "tags": [],
            "needs_background": "light"
          }
        }
      ]
    },
    {
      "cell_type": "code",
      "metadata": {
        "id": "CU4SjqSjfNxe",
        "colab_type": "code",
        "colab": {},
        "outputId": "3536ad99-0585-42a5-b1a9-5cf80018a3d8"
      },
      "source": [
        "#Applying to iris data\n",
        "\n",
        "X_train, X_test, y_train, y_test = train_test_split(iris_data.data, iris_data.target, random_state = 0)\n",
        "forest = RandomForestClassifier(n_estimators = 100, random_state = 0)\n",
        "forest.fit(X_train, y_train)\n",
        "\n",
        "\n",
        "\n",
        "training_set_score= forest.score(X_train,y_train)\n",
        "test_set_score= forest.score(X_test,y_test)\n",
        "print(training_set_score)\n",
        "print(test_set_score)"
      ],
      "execution_count": null,
      "outputs": [
        {
          "output_type": "stream",
          "text": [
            "1.0\n",
            "0.9736842105263158\n"
          ],
          "name": "stdout"
        }
      ]
    },
    {
      "cell_type": "code",
      "metadata": {
        "id": "xcRqFS-0fNxl",
        "colab_type": "code",
        "colab": {},
        "outputId": "a931d16d-35b3-4bce-ff7d-4557072fa41f"
      },
      "source": [
        "plot_feature_importances_iris(forest)"
      ],
      "execution_count": null,
      "outputs": [
        {
          "output_type": "display_data",
          "data": {
            "image/png": "[encoded data removed]",
            "text/plain": [
              "<Figure size 432x288 with 1 Axes>"
            ]
          },
          "metadata": {
            "tags": [],
            "needs_background": "light"
          }
        }
      ]
    },
    {
      "cell_type": "markdown",
      "metadata": {
        "id": "8XWn1lMUfNxz",
        "colab_type": "text"
      },
      "source": [
        "<div class=\"alert alert-info\">\n",
        "Random forest feature importance are more reliable than that of a single tree. Random forest capture a more broader picture of the data than a single tree. The impotant parameters are n_estmators(larger is better), max_featues, max_depth. The good rule of thumb for setting max_features is sqrt(n_features) for classification and log2(n_features) for regression. </div>"
      ]
    },
    {
      "cell_type": "markdown",
      "metadata": {
        "id": "1A7SyVS2fNx0",
        "colab_type": "text"
      },
      "source": [
        "<h3>Gradient boosted decision trees</h3>"
      ]
    },
    {
      "cell_type": "code",
      "metadata": {
        "id": "FqzY93dqfNx1",
        "colab_type": "code",
        "colab": {}
      },
      "source": [
        "from sklearn.ensemble import GradientBoostingClassifier"
      ],
      "execution_count": null,
      "outputs": []
    },
    {
      "cell_type": "code",
      "metadata": {
        "id": "3Hfb2RhJfNyS",
        "colab_type": "code",
        "colab": {},
        "outputId": "f5f42042-1963-4374-c409-d8a837913c51"
      },
      "source": [
        "#Applying to iris data\n",
        "\n",
        "X_train, X_test, y_train, y_test = train_test_split(iris_data.data, iris_data.target, random_state = 0)\n",
        "gbrt = GradientBoostingClassifier(random_state = 0)\n",
        "gbrt.fit(X_train, y_train)\n",
        "\n",
        "\n",
        "\n",
        "training_set_score= gbrt.score(X_train,y_train)\n",
        "test_set_score= gbrt.score(X_test,y_test)\n",
        "print(training_set_score)\n",
        "print(test_set_score)"
      ],
      "execution_count": null,
      "outputs": [
        {
          "output_type": "stream",
          "text": [
            "1.0\n",
            "0.9736842105263158\n"
          ],
          "name": "stdout"
        }
      ]
    },
    {
      "cell_type": "code",
      "metadata": {
        "id": "IrmkxZU2fN0G",
        "colab_type": "code",
        "colab": {},
        "outputId": "b9e40616-1ba1-4903-f191-62bdc8967939"
      },
      "source": [
        "#Let's tune the max_depth parameter\n",
        "\n",
        "gbrt = GradientBoostingClassifier(random_state = 0, max_depth = 1)\n",
        "gbrt.fit(X_train, y_train)\n",
        "\n",
        "\n",
        "\n",
        "training_set_score= gbrt.score(X_train,y_train)\n",
        "test_set_score= gbrt.score(X_test,y_test)\n",
        "print(training_set_score)\n",
        "print(test_set_score)"
      ],
      "execution_count": null,
      "outputs": [
        {
          "output_type": "stream",
          "text": [
            "1.0\n",
            "0.9736842105263158\n"
          ],
          "name": "stdout"
        }
      ]
    },
    {
      "cell_type": "code",
      "metadata": {
        "id": "67TW0DJxfN2F",
        "colab_type": "code",
        "colab": {},
        "outputId": "4d10aaa7-ab2a-4f23-82ce-952bdc844c34"
      },
      "source": [
        "#Let's tune the learning rate  parameter\n",
        "\n",
        "gbrt = GradientBoostingClassifier(random_state = 0, learning_rate = 0.009)\n",
        "gbrt.fit(X_train, y_train)\n",
        "\n",
        "\n",
        "\n",
        "training_set_score= gbrt.score(X_train,y_train)\n",
        "test_set_score= gbrt.score(X_test,y_test)\n",
        "print(training_set_score)\n",
        "print(test_set_score)"
      ],
      "execution_count": null,
      "outputs": [
        {
          "output_type": "stream",
          "text": [
            "1.0\n",
            "0.9736842105263158\n"
          ],
          "name": "stdout"
        }
      ]
    },
    {
      "cell_type": "code",
      "metadata": {
        "id": "z4dT8jeYfN2U",
        "colab_type": "code",
        "colab": {},
        "outputId": "a25e2a17-3b4a-41a0-aaf1-0bab804d41d7"
      },
      "source": [
        "plot_feature_importances_iris(gbrt)"
      ],
      "execution_count": null,
      "outputs": [
        {
          "output_type": "display_data",
          "data": {
            "image/png": "[encoded data removed]",
            "text/plain": [
              "<Figure size 432x288 with 1 Axes>"
            ]
          },
          "metadata": {
            "tags": [],
            "needs_background": "light"
          }
        }
      ]
    },
    {
      "cell_type": "markdown",
      "metadata": {
        "id": "ZdmCNh6hfN2j",
        "colab_type": "text"
      },
      "source": [
        "<h3>References</h3>"
      ]
    },
    {
      "cell_type": "markdown",
      "metadata": {
        "id": "6bDePYflfN2z",
        "colab_type": "text"
      },
      "source": [
        "<li>Machine learning tutorial on <a href = https://pythonprogramming.net/machine-learning-tutorial-python-introduction/> programming.net</a></li>\n",
        "\n",
        "<li><b>Introduction to Machine learning</b> by Andreas C.Muller and Sarah Guido</li>"
      ]
    }
  ]
}